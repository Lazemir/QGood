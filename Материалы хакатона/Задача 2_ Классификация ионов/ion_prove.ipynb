{
 "cells": [
  {
   "cell_type": "markdown",
   "metadata": {
    "id": "wzmKhRUZLXft"
   },
   "source": [
    "Проверка результата"
   ]
  },
  {
   "cell_type": "code",
   "execution_count": 1,
   "metadata": {
    "id": "n2ZOQHFoLbIH"
   },
   "outputs": [
    {
     "ename": "FileNotFoundError",
     "evalue": "[Errno 2] No such file or directory: 'labeled_ions_true_new.csv'",
     "output_type": "error",
     "traceback": [
      "\u001b[1;31m---------------------------------------------------------------------------\u001b[0m",
      "\u001b[1;31mFileNotFoundError\u001b[0m                         Traceback (most recent call last)",
      "Cell \u001b[1;32mIn[1], line 5\u001b[0m\n\u001b[0;32m      2\u001b[0m \u001b[38;5;28;01mimport\u001b[39;00m \u001b[38;5;21;01mpandas\u001b[39;00m \u001b[38;5;28;01mas\u001b[39;00m \u001b[38;5;21;01mpd\u001b[39;00m\n\u001b[0;32m      4\u001b[0m df_pred\u001b[38;5;241m=\u001b[39m pd\u001b[38;5;241m.\u001b[39mread_csv(\u001b[38;5;124m'\u001b[39m\u001b[38;5;124mlabeled_ions_team_name_1.csv\u001b[39m\u001b[38;5;124m'\u001b[39m, sep \u001b[38;5;241m=\u001b[39m \u001b[38;5;124m'\u001b[39m\u001b[38;5;124m,\u001b[39m\u001b[38;5;124m'\u001b[39m, index_col \u001b[38;5;241m=\u001b[39m [\u001b[38;5;241m0\u001b[39m]) \u001b[38;5;66;03m#загрузить csv автоматической разметки\u001b[39;00m\n\u001b[1;32m----> 5\u001b[0m df_true \u001b[38;5;241m=\u001b[39m \u001b[43mpd\u001b[49m\u001b[38;5;241;43m.\u001b[39;49m\u001b[43mread_csv\u001b[49m\u001b[43m(\u001b[49m\u001b[38;5;124;43m'\u001b[39;49m\u001b[38;5;124;43mlabeled_ions_true_new.csv\u001b[39;49m\u001b[38;5;124;43m'\u001b[39;49m\u001b[43m,\u001b[49m\u001b[43m \u001b[49m\u001b[43msep\u001b[49m\u001b[43m \u001b[49m\u001b[38;5;241;43m=\u001b[39;49m\u001b[43m \u001b[49m\u001b[38;5;124;43m'\u001b[39;49m\u001b[38;5;124;43m,\u001b[39;49m\u001b[38;5;124;43m'\u001b[39;49m\u001b[43m,\u001b[49m\u001b[43m \u001b[49m\u001b[43mindex_col\u001b[49m\u001b[43m \u001b[49m\u001b[38;5;241;43m=\u001b[39;49m\u001b[43m \u001b[49m\u001b[43m[\u001b[49m\u001b[38;5;241;43m0\u001b[39;49m\u001b[43m]\u001b[49m\u001b[43m)\u001b[49m \u001b[38;5;66;03m#загрузить файл csv ручной разметки\u001b[39;00m\n",
      "File \u001b[1;32m~\\AppData\\Local\\Programs\\Python\\Python311\\Lib\\site-packages\\pandas\\io\\parsers\\readers.py:912\u001b[0m, in \u001b[0;36mread_csv\u001b[1;34m(filepath_or_buffer, sep, delimiter, header, names, index_col, usecols, dtype, engine, converters, true_values, false_values, skipinitialspace, skiprows, skipfooter, nrows, na_values, keep_default_na, na_filter, verbose, skip_blank_lines, parse_dates, infer_datetime_format, keep_date_col, date_parser, date_format, dayfirst, cache_dates, iterator, chunksize, compression, thousands, decimal, lineterminator, quotechar, quoting, doublequote, escapechar, comment, encoding, encoding_errors, dialect, on_bad_lines, delim_whitespace, low_memory, memory_map, float_precision, storage_options, dtype_backend)\u001b[0m\n\u001b[0;32m    899\u001b[0m kwds_defaults \u001b[38;5;241m=\u001b[39m _refine_defaults_read(\n\u001b[0;32m    900\u001b[0m     dialect,\n\u001b[0;32m    901\u001b[0m     delimiter,\n\u001b[1;32m   (...)\u001b[0m\n\u001b[0;32m    908\u001b[0m     dtype_backend\u001b[38;5;241m=\u001b[39mdtype_backend,\n\u001b[0;32m    909\u001b[0m )\n\u001b[0;32m    910\u001b[0m kwds\u001b[38;5;241m.\u001b[39mupdate(kwds_defaults)\n\u001b[1;32m--> 912\u001b[0m \u001b[38;5;28;01mreturn\u001b[39;00m \u001b[43m_read\u001b[49m\u001b[43m(\u001b[49m\u001b[43mfilepath_or_buffer\u001b[49m\u001b[43m,\u001b[49m\u001b[43m \u001b[49m\u001b[43mkwds\u001b[49m\u001b[43m)\u001b[49m\n",
      "File \u001b[1;32m~\\AppData\\Local\\Programs\\Python\\Python311\\Lib\\site-packages\\pandas\\io\\parsers\\readers.py:577\u001b[0m, in \u001b[0;36m_read\u001b[1;34m(filepath_or_buffer, kwds)\u001b[0m\n\u001b[0;32m    574\u001b[0m _validate_names(kwds\u001b[38;5;241m.\u001b[39mget(\u001b[38;5;124m\"\u001b[39m\u001b[38;5;124mnames\u001b[39m\u001b[38;5;124m\"\u001b[39m, \u001b[38;5;28;01mNone\u001b[39;00m))\n\u001b[0;32m    576\u001b[0m \u001b[38;5;66;03m# Create the parser.\u001b[39;00m\n\u001b[1;32m--> 577\u001b[0m parser \u001b[38;5;241m=\u001b[39m \u001b[43mTextFileReader\u001b[49m\u001b[43m(\u001b[49m\u001b[43mfilepath_or_buffer\u001b[49m\u001b[43m,\u001b[49m\u001b[43m \u001b[49m\u001b[38;5;241;43m*\u001b[39;49m\u001b[38;5;241;43m*\u001b[39;49m\u001b[43mkwds\u001b[49m\u001b[43m)\u001b[49m\n\u001b[0;32m    579\u001b[0m \u001b[38;5;28;01mif\u001b[39;00m chunksize \u001b[38;5;129;01mor\u001b[39;00m iterator:\n\u001b[0;32m    580\u001b[0m     \u001b[38;5;28;01mreturn\u001b[39;00m parser\n",
      "File \u001b[1;32m~\\AppData\\Local\\Programs\\Python\\Python311\\Lib\\site-packages\\pandas\\io\\parsers\\readers.py:1407\u001b[0m, in \u001b[0;36mTextFileReader.__init__\u001b[1;34m(self, f, engine, **kwds)\u001b[0m\n\u001b[0;32m   1404\u001b[0m     \u001b[38;5;28mself\u001b[39m\u001b[38;5;241m.\u001b[39moptions[\u001b[38;5;124m\"\u001b[39m\u001b[38;5;124mhas_index_names\u001b[39m\u001b[38;5;124m\"\u001b[39m] \u001b[38;5;241m=\u001b[39m kwds[\u001b[38;5;124m\"\u001b[39m\u001b[38;5;124mhas_index_names\u001b[39m\u001b[38;5;124m\"\u001b[39m]\n\u001b[0;32m   1406\u001b[0m \u001b[38;5;28mself\u001b[39m\u001b[38;5;241m.\u001b[39mhandles: IOHandles \u001b[38;5;241m|\u001b[39m \u001b[38;5;28;01mNone\u001b[39;00m \u001b[38;5;241m=\u001b[39m \u001b[38;5;28;01mNone\u001b[39;00m\n\u001b[1;32m-> 1407\u001b[0m \u001b[38;5;28mself\u001b[39m\u001b[38;5;241m.\u001b[39m_engine \u001b[38;5;241m=\u001b[39m \u001b[38;5;28;43mself\u001b[39;49m\u001b[38;5;241;43m.\u001b[39;49m\u001b[43m_make_engine\u001b[49m\u001b[43m(\u001b[49m\u001b[43mf\u001b[49m\u001b[43m,\u001b[49m\u001b[43m \u001b[49m\u001b[38;5;28;43mself\u001b[39;49m\u001b[38;5;241;43m.\u001b[39;49m\u001b[43mengine\u001b[49m\u001b[43m)\u001b[49m\n",
      "File \u001b[1;32m~\\AppData\\Local\\Programs\\Python\\Python311\\Lib\\site-packages\\pandas\\io\\parsers\\readers.py:1661\u001b[0m, in \u001b[0;36mTextFileReader._make_engine\u001b[1;34m(self, f, engine)\u001b[0m\n\u001b[0;32m   1659\u001b[0m     \u001b[38;5;28;01mif\u001b[39;00m \u001b[38;5;124m\"\u001b[39m\u001b[38;5;124mb\u001b[39m\u001b[38;5;124m\"\u001b[39m \u001b[38;5;129;01mnot\u001b[39;00m \u001b[38;5;129;01min\u001b[39;00m mode:\n\u001b[0;32m   1660\u001b[0m         mode \u001b[38;5;241m+\u001b[39m\u001b[38;5;241m=\u001b[39m \u001b[38;5;124m\"\u001b[39m\u001b[38;5;124mb\u001b[39m\u001b[38;5;124m\"\u001b[39m\n\u001b[1;32m-> 1661\u001b[0m \u001b[38;5;28mself\u001b[39m\u001b[38;5;241m.\u001b[39mhandles \u001b[38;5;241m=\u001b[39m \u001b[43mget_handle\u001b[49m\u001b[43m(\u001b[49m\n\u001b[0;32m   1662\u001b[0m \u001b[43m    \u001b[49m\u001b[43mf\u001b[49m\u001b[43m,\u001b[49m\n\u001b[0;32m   1663\u001b[0m \u001b[43m    \u001b[49m\u001b[43mmode\u001b[49m\u001b[43m,\u001b[49m\n\u001b[0;32m   1664\u001b[0m \u001b[43m    \u001b[49m\u001b[43mencoding\u001b[49m\u001b[38;5;241;43m=\u001b[39;49m\u001b[38;5;28;43mself\u001b[39;49m\u001b[38;5;241;43m.\u001b[39;49m\u001b[43moptions\u001b[49m\u001b[38;5;241;43m.\u001b[39;49m\u001b[43mget\u001b[49m\u001b[43m(\u001b[49m\u001b[38;5;124;43m\"\u001b[39;49m\u001b[38;5;124;43mencoding\u001b[39;49m\u001b[38;5;124;43m\"\u001b[39;49m\u001b[43m,\u001b[49m\u001b[43m \u001b[49m\u001b[38;5;28;43;01mNone\u001b[39;49;00m\u001b[43m)\u001b[49m\u001b[43m,\u001b[49m\n\u001b[0;32m   1665\u001b[0m \u001b[43m    \u001b[49m\u001b[43mcompression\u001b[49m\u001b[38;5;241;43m=\u001b[39;49m\u001b[38;5;28;43mself\u001b[39;49m\u001b[38;5;241;43m.\u001b[39;49m\u001b[43moptions\u001b[49m\u001b[38;5;241;43m.\u001b[39;49m\u001b[43mget\u001b[49m\u001b[43m(\u001b[49m\u001b[38;5;124;43m\"\u001b[39;49m\u001b[38;5;124;43mcompression\u001b[39;49m\u001b[38;5;124;43m\"\u001b[39;49m\u001b[43m,\u001b[49m\u001b[43m \u001b[49m\u001b[38;5;28;43;01mNone\u001b[39;49;00m\u001b[43m)\u001b[49m\u001b[43m,\u001b[49m\n\u001b[0;32m   1666\u001b[0m \u001b[43m    \u001b[49m\u001b[43mmemory_map\u001b[49m\u001b[38;5;241;43m=\u001b[39;49m\u001b[38;5;28;43mself\u001b[39;49m\u001b[38;5;241;43m.\u001b[39;49m\u001b[43moptions\u001b[49m\u001b[38;5;241;43m.\u001b[39;49m\u001b[43mget\u001b[49m\u001b[43m(\u001b[49m\u001b[38;5;124;43m\"\u001b[39;49m\u001b[38;5;124;43mmemory_map\u001b[39;49m\u001b[38;5;124;43m\"\u001b[39;49m\u001b[43m,\u001b[49m\u001b[43m \u001b[49m\u001b[38;5;28;43;01mFalse\u001b[39;49;00m\u001b[43m)\u001b[49m\u001b[43m,\u001b[49m\n\u001b[0;32m   1667\u001b[0m \u001b[43m    \u001b[49m\u001b[43mis_text\u001b[49m\u001b[38;5;241;43m=\u001b[39;49m\u001b[43mis_text\u001b[49m\u001b[43m,\u001b[49m\n\u001b[0;32m   1668\u001b[0m \u001b[43m    \u001b[49m\u001b[43merrors\u001b[49m\u001b[38;5;241;43m=\u001b[39;49m\u001b[38;5;28;43mself\u001b[39;49m\u001b[38;5;241;43m.\u001b[39;49m\u001b[43moptions\u001b[49m\u001b[38;5;241;43m.\u001b[39;49m\u001b[43mget\u001b[49m\u001b[43m(\u001b[49m\u001b[38;5;124;43m\"\u001b[39;49m\u001b[38;5;124;43mencoding_errors\u001b[39;49m\u001b[38;5;124;43m\"\u001b[39;49m\u001b[43m,\u001b[49m\u001b[43m \u001b[49m\u001b[38;5;124;43m\"\u001b[39;49m\u001b[38;5;124;43mstrict\u001b[39;49m\u001b[38;5;124;43m\"\u001b[39;49m\u001b[43m)\u001b[49m\u001b[43m,\u001b[49m\n\u001b[0;32m   1669\u001b[0m \u001b[43m    \u001b[49m\u001b[43mstorage_options\u001b[49m\u001b[38;5;241;43m=\u001b[39;49m\u001b[38;5;28;43mself\u001b[39;49m\u001b[38;5;241;43m.\u001b[39;49m\u001b[43moptions\u001b[49m\u001b[38;5;241;43m.\u001b[39;49m\u001b[43mget\u001b[49m\u001b[43m(\u001b[49m\u001b[38;5;124;43m\"\u001b[39;49m\u001b[38;5;124;43mstorage_options\u001b[39;49m\u001b[38;5;124;43m\"\u001b[39;49m\u001b[43m,\u001b[49m\u001b[43m \u001b[49m\u001b[38;5;28;43;01mNone\u001b[39;49;00m\u001b[43m)\u001b[49m\u001b[43m,\u001b[49m\n\u001b[0;32m   1670\u001b[0m \u001b[43m\u001b[49m\u001b[43m)\u001b[49m\n\u001b[0;32m   1671\u001b[0m \u001b[38;5;28;01massert\u001b[39;00m \u001b[38;5;28mself\u001b[39m\u001b[38;5;241m.\u001b[39mhandles \u001b[38;5;129;01mis\u001b[39;00m \u001b[38;5;129;01mnot\u001b[39;00m \u001b[38;5;28;01mNone\u001b[39;00m\n\u001b[0;32m   1672\u001b[0m f \u001b[38;5;241m=\u001b[39m \u001b[38;5;28mself\u001b[39m\u001b[38;5;241m.\u001b[39mhandles\u001b[38;5;241m.\u001b[39mhandle\n",
      "File \u001b[1;32m~\\AppData\\Local\\Programs\\Python\\Python311\\Lib\\site-packages\\pandas\\io\\common.py:859\u001b[0m, in \u001b[0;36mget_handle\u001b[1;34m(path_or_buf, mode, encoding, compression, memory_map, is_text, errors, storage_options)\u001b[0m\n\u001b[0;32m    854\u001b[0m \u001b[38;5;28;01melif\u001b[39;00m \u001b[38;5;28misinstance\u001b[39m(handle, \u001b[38;5;28mstr\u001b[39m):\n\u001b[0;32m    855\u001b[0m     \u001b[38;5;66;03m# Check whether the filename is to be opened in binary mode.\u001b[39;00m\n\u001b[0;32m    856\u001b[0m     \u001b[38;5;66;03m# Binary mode does not support 'encoding' and 'newline'.\u001b[39;00m\n\u001b[0;32m    857\u001b[0m     \u001b[38;5;28;01mif\u001b[39;00m ioargs\u001b[38;5;241m.\u001b[39mencoding \u001b[38;5;129;01mand\u001b[39;00m \u001b[38;5;124m\"\u001b[39m\u001b[38;5;124mb\u001b[39m\u001b[38;5;124m\"\u001b[39m \u001b[38;5;129;01mnot\u001b[39;00m \u001b[38;5;129;01min\u001b[39;00m ioargs\u001b[38;5;241m.\u001b[39mmode:\n\u001b[0;32m    858\u001b[0m         \u001b[38;5;66;03m# Encoding\u001b[39;00m\n\u001b[1;32m--> 859\u001b[0m         handle \u001b[38;5;241m=\u001b[39m \u001b[38;5;28;43mopen\u001b[39;49m\u001b[43m(\u001b[49m\n\u001b[0;32m    860\u001b[0m \u001b[43m            \u001b[49m\u001b[43mhandle\u001b[49m\u001b[43m,\u001b[49m\n\u001b[0;32m    861\u001b[0m \u001b[43m            \u001b[49m\u001b[43mioargs\u001b[49m\u001b[38;5;241;43m.\u001b[39;49m\u001b[43mmode\u001b[49m\u001b[43m,\u001b[49m\n\u001b[0;32m    862\u001b[0m \u001b[43m            \u001b[49m\u001b[43mencoding\u001b[49m\u001b[38;5;241;43m=\u001b[39;49m\u001b[43mioargs\u001b[49m\u001b[38;5;241;43m.\u001b[39;49m\u001b[43mencoding\u001b[49m\u001b[43m,\u001b[49m\n\u001b[0;32m    863\u001b[0m \u001b[43m            \u001b[49m\u001b[43merrors\u001b[49m\u001b[38;5;241;43m=\u001b[39;49m\u001b[43merrors\u001b[49m\u001b[43m,\u001b[49m\n\u001b[0;32m    864\u001b[0m \u001b[43m            \u001b[49m\u001b[43mnewline\u001b[49m\u001b[38;5;241;43m=\u001b[39;49m\u001b[38;5;124;43m\"\u001b[39;49m\u001b[38;5;124;43m\"\u001b[39;49m\u001b[43m,\u001b[49m\n\u001b[0;32m    865\u001b[0m \u001b[43m        \u001b[49m\u001b[43m)\u001b[49m\n\u001b[0;32m    866\u001b[0m     \u001b[38;5;28;01melse\u001b[39;00m:\n\u001b[0;32m    867\u001b[0m         \u001b[38;5;66;03m# Binary mode\u001b[39;00m\n\u001b[0;32m    868\u001b[0m         handle \u001b[38;5;241m=\u001b[39m \u001b[38;5;28mopen\u001b[39m(handle, ioargs\u001b[38;5;241m.\u001b[39mmode)\n",
      "\u001b[1;31mFileNotFoundError\u001b[0m: [Errno 2] No such file or directory: 'labeled_ions_true_new.csv'"
     ]
    }
   ],
   "source": [
    "#загрузка разметки\n",
    "import pandas as pd\n",
    "\n",
    "df_pred= pd.read_csv('labeled_ions_team_name_1.csv', sep = ',', index_col = [0]) #загрузить csv автоматической разметки\n",
    "df_true = pd.read_csv('labeled_ions_true_new.csv', sep = ',', index_col = [0]) #загрузить файл csv ручной разметки"
   ]
  },
  {
   "cell_type": "code",
   "execution_count": null,
   "metadata": {
    "colab": {
     "base_uri": "https://localhost:8080/",
     "height": 423
    },
    "id": "alAsF9GlMDa2",
    "outputId": "0dee8a78-1829-423a-8fee-babae1f4cf9d"
   },
   "outputs": [],
   "source": [
    "#данные ручной разметки\n",
    "df_true"
   ]
  },
  {
   "cell_type": "code",
   "execution_count": 2,
   "metadata": {
    "colab": {
     "base_uri": "https://localhost:8080/",
     "height": 423
    },
    "id": "HnnROOGaZy5c",
    "outputId": "e63c0d61-fd5e-4695-cb7e-6a29d629e88b"
   },
   "outputs": [
    {
     "data": {
      "text/html": [
       "<div>\n",
       "<style scoped>\n",
       "    .dataframe tbody tr th:only-of-type {\n",
       "        vertical-align: middle;\n",
       "    }\n",
       "\n",
       "    .dataframe tbody tr th {\n",
       "        vertical-align: top;\n",
       "    }\n",
       "\n",
       "    .dataframe thead th {\n",
       "        text-align: right;\n",
       "    }\n",
       "</style>\n",
       "<table border=\"1\" class=\"dataframe\">\n",
       "  <thead>\n",
       "    <tr style=\"text-align: right;\">\n",
       "      <th></th>\n",
       "    </tr>\n",
       "    <tr>\n",
       "      <th>;Filename;Qubit 1 state;Qubit 2 state;Qubit 3 state;Qubit 4 state</th>\n",
       "    </tr>\n",
       "  </thead>\n",
       "  <tbody>\n",
       "    <tr>\n",
       "      <th>0;760e3945-e0c9-4c9a-b78a-a68fbbee05cd.png;0.0;1.0;1.0;1.0</th>\n",
       "    </tr>\n",
       "    <tr>\n",
       "      <th>1;bc09db3b-dedf-49da-946c-efdf2304551b.png;1.0;0.0;1.0;1.0</th>\n",
       "    </tr>\n",
       "    <tr>\n",
       "      <th>2;45da543d-c099-4e17-9e18-f3c2776ae8b7.png;0.0;1.0;1.0;1.0</th>\n",
       "    </tr>\n",
       "    <tr>\n",
       "      <th>3;fbe18a1d-a194-4581-ad61-8aff1dcf045d.png;1.0;0.0;1.0;1.0</th>\n",
       "    </tr>\n",
       "    <tr>\n",
       "      <th>4;ccb1fa64-1a46-4680-82e3-178495a9121c.png;1.0;1.0;0.0;1.0</th>\n",
       "    </tr>\n",
       "    <tr>\n",
       "      <th>5;2067c2f1-a36b-4892-b96e-43028b0fea2d.png;1.0;1.0;1.0;1.0</th>\n",
       "    </tr>\n",
       "    <tr>\n",
       "      <th>6;687e714c-d32b-4c6b-9e26-d9dea275bccd.png;1.0;1.0;1.0;1.0</th>\n",
       "    </tr>\n",
       "    <tr>\n",
       "      <th>7;1813bf7c-24cc-4af0-a032-b70cfa74fbfa.png;1.0;0.0;1.0;1.0</th>\n",
       "    </tr>\n",
       "    <tr>\n",
       "      <th>8;7fd7c561-7522-46aa-b95b-9b66353eb63c.png;1.0;1.0;1.0;1.0</th>\n",
       "    </tr>\n",
       "    <tr>\n",
       "      <th>9;0f1ef869-4992-4a1a-af0d-9ed7dbc8d0fc.png;1.0;1.0;0.0;1.0</th>\n",
       "    </tr>\n",
       "    <tr>\n",
       "      <th>10;2a39a130-3c38-4270-8efc-458a3b0a0033.png;1.0;1.0;0.0;0.0</th>\n",
       "    </tr>\n",
       "  </tbody>\n",
       "</table>\n",
       "</div>"
      ],
      "text/plain": [
       "Empty DataFrame\n",
       "Columns: []\n",
       "Index: [0;760e3945-e0c9-4c9a-b78a-a68fbbee05cd.png;0.0;1.0;1.0;1.0, 1;bc09db3b-dedf-49da-946c-efdf2304551b.png;1.0;0.0;1.0;1.0, 2;45da543d-c099-4e17-9e18-f3c2776ae8b7.png;0.0;1.0;1.0;1.0, 3;fbe18a1d-a194-4581-ad61-8aff1dcf045d.png;1.0;0.0;1.0;1.0, 4;ccb1fa64-1a46-4680-82e3-178495a9121c.png;1.0;1.0;0.0;1.0, 5;2067c2f1-a36b-4892-b96e-43028b0fea2d.png;1.0;1.0;1.0;1.0, 6;687e714c-d32b-4c6b-9e26-d9dea275bccd.png;1.0;1.0;1.0;1.0, 7;1813bf7c-24cc-4af0-a032-b70cfa74fbfa.png;1.0;0.0;1.0;1.0, 8;7fd7c561-7522-46aa-b95b-9b66353eb63c.png;1.0;1.0;1.0;1.0, 9;0f1ef869-4992-4a1a-af0d-9ed7dbc8d0fc.png;1.0;1.0;0.0;1.0, 10;2a39a130-3c38-4270-8efc-458a3b0a0033.png;1.0;1.0;0.0;0.0]"
      ]
     },
     "execution_count": 2,
     "metadata": {},
     "output_type": "execute_result"
    }
   ],
   "source": [
    "#данные автоматической разметки\n",
    "df_pred"
   ]
  },
  {
   "cell_type": "code",
   "execution_count": 5,
   "metadata": {
    "id": "09mfRDgoRu2F"
   },
   "outputs": [],
   "source": [
    "df_true['Class'] =  df_true['Qubit 1 state'] * 2**0 + df_true['Qubit 2 state'] * 2**1 + df_true['Qubit 3 state'] * 2**2 + df_true['Qubit 4 state'] * 2**3\n",
    "\n",
    "df_pred['Class'] =  df_pred['Qubit 1 state'] * 2**0 + df_pred['Qubit 2 state'] * 2**1 + df_pred['Qubit 3 state'] * 2**2 + df_pred['Qubit 4 state'] * 2**3"
   ]
  },
  {
   "cell_type": "code",
   "execution_count": 6,
   "metadata": {
    "id": "9PdkDRkmovj9"
   },
   "outputs": [],
   "source": [
    "Category = list(['|0000>', '|0001>','|0010>','|0011>',\n",
    "                 '|0100>', '|0101>','|0110>','|0111>',\n",
    "                 '|1000>', '|1001>','|1010>','|1011>',\n",
    "                 '|1100>', '|1101>','|1110>','|1111>'])"
   ]
  },
  {
   "cell_type": "code",
   "execution_count": 7,
   "metadata": {
    "colab": {
     "base_uri": "https://localhost:8080/",
     "height": 542
    },
    "id": "0U612bDPoFze",
    "outputId": "b5489d8b-ddfe-4abe-d8c8-89977cf12eec"
   },
   "outputs": [
    {
     "data": {
      "text/html": [
       "<html>\n",
       "<head><meta charset=\"utf-8\" /></head>\n",
       "<body>\n",
       "    <div>            <script src=\"https://cdnjs.cloudflare.com/ajax/libs/mathjax/2.7.5/MathJax.js?config=TeX-AMS-MML_SVG\"></script><script type=\"text/javascript\">if (window.MathJax && window.MathJax.Hub && window.MathJax.Hub.Config) {window.MathJax.Hub.Config({SVG: {font: \"STIX-Web\"}});}</script>                <script type=\"text/javascript\">window.PlotlyConfig = {MathJaxConfig: 'local'};</script>\n",
       "        <script charset=\"utf-8\" src=\"https://cdn.plot.ly/plotly-2.24.1.min.js\"></script>                <div id=\"c37db1f0-7592-451c-9b71-cac2e64352ab\" class=\"plotly-graph-div\" style=\"height:525px; width:100%;\"></div>            <script type=\"text/javascript\">                                    window.PLOTLYENV=window.PLOTLYENV || {};                                    if (document.getElementById(\"c37db1f0-7592-451c-9b71-cac2e64352ab\")) {                    Plotly.newPlot(                        \"c37db1f0-7592-451c-9b71-cac2e64352ab\",                        [{\"alignmentgroup\":\"True\",\"bingroup\":\"x\",\"hovertemplate\":\"Class=%{x}\\u003cbr\\u003ecount=%{y}\\u003cextra\\u003e\\u003c\\u002fextra\\u003e\",\"legendgroup\":\"\",\"marker\":{\"color\":\"#636efa\",\"pattern\":{\"shape\":\"\"}},\"name\":\"\",\"nbinsx\":16,\"offsetgroup\":\"\",\"orientation\":\"v\",\"showlegend\":false,\"x\":[15.0,15.0,6.0,13.0,14.0,15.0,15.0,15.0,14.0,13.0,13.0,15.0,14.0,14.0,9.0,11.0,13.0,15.0,15.0,15.0,1.0,13.0,15.0,15.0,7.0,15.0,15.0,15.0,15.0,15.0,15.0,15.0,14.0,9.0,14.0,14.0,15.0,11.0,15.0,11.0,15.0,15.0,13.0,14.0,14.0,11.0,15.0,14.0,12.0,15.0,13.0,15.0,15.0,13.0,15.0,15.0,15.0,15.0,15.0,15.0,6.0,7.0,6.0,15.0,14.0,3.0,15.0,5.0,6.0,3.0,11.0,13.0,11.0,15.0,7.0,15.0,7.0,15.0,3.0,11.0,15.0,11.0,15.0,15.0,13.0,7.0,15.0,15.0,13.0,14.0,7.0,9.0,15.0,15.0,15.0,15.0,15.0,15.0,15.0,11.0,14.0,15.0,14.0,13.0,11.0,15.0,15.0,13.0,15.0,15.0,15.0,15.0,13.0,7.0,15.0,11.0,7.0,15.0,15.0,15.0,15.0,15.0,11.0,15.0,10.0,13.0,5.0,15.0,7.0,15.0,15.0,15.0,3.0,14.0,15.0,15.0,15.0,15.0,11.0,11.0,15.0,15.0,13.0,13.0,15.0,14.0,5.0,14.0,13.0,7.0,7.0,5.0,15.0,13.0,15.0,15.0,13.0,15.0,14.0,14.0,15.0,15.0,15.0,15.0,11.0,15.0,15.0,7.0,3.0,15.0,15.0,15.0,14.0,6.0,15.0,15.0,11.0,9.0,3.0,15.0,15.0,15.0,15.0,14.0,15.0,15.0,15.0,9.0,7.0,15.0,15.0,7.0,15.0,15.0,11.0,7.0,15.0,7.0,7.0,5.0,15.0,15.0,7.0,15.0,15.0,14.0,14.0,7.0,7.0,15.0,3.0,15.0,7.0,6.0,7.0,13.0,15.0,11.0,15.0,15.0,3.0,11.0,15.0,15.0,7.0,15.0,6.0,7.0,15.0,15.0,15.0,11.0,15.0,11.0,15.0,14.0,15.0,15.0,6.0,14.0,14.0,10.0,6.0,7.0,1.0,15.0,7.0,15.0,7.0,7.0,7.0,15.0,6.0,15.0,15.0,7.0,7.0,15.0,11.0,15.0,14.0,11.0,15.0,15.0,15.0,10.0,5.0,15.0,15.0,15.0,13.0,15.0,15.0,14.0,7.0,5.0,15.0,15.0,2.0,15.0,15.0,10.0,11.0,11.0,11.0,15.0,7.0,10.0,13.0,15.0,15.0,15.0,15.0,7.0,15.0,11.0,15.0,15.0,15.0,1.0,3.0,13.0,10.0,15.0,14.0,11.0,15.0,15.0,11.0,11.0,13.0,3.0,15.0,15.0,14.0,11.0,15.0,15.0,7.0,15.0,13.0,13.0,15.0,7.0,7.0,15.0,15.0,7.0,15.0,7.0,15.0,14.0,15.0,14.0,5.0,15.0,7.0,15.0,14.0,7.0,12.0,11.0,7.0,13.0,14.0,15.0,15.0,13.0,13.0,7.0,7.0,15.0,10.0,11.0,15.0,11.0,15.0,15.0,5.0,3.0,15.0,14.0,14.0,3.0,4.0,15.0,10.0,6.0,15.0,13.0,13.0,13.0,13.0,15.0,13.0,15.0,15.0,10.0,15.0,3.0,15.0,13.0,7.0,14.0,13.0,15.0,7.0,9.0,15.0,15.0,7.0,14.0,14.0,15.0,7.0,3.0,11.0,15.0,15.0,15.0,15.0,14.0,14.0,15.0,14.0,14.0,7.0,13.0,15.0,14.0,7.0,11.0,14.0,14.0,11.0,11.0,14.0,15.0,3.0,7.0,3.0,15.0,15.0,15.0,10.0,14.0,15.0,15.0,10.0,11.0,14.0,7.0,15.0,11.0,11.0,15.0,15.0,12.0,11.0,15.0,14.0,15.0,11.0,11.0,14.0,11.0,14.0,6.0,7.0,15.0,15.0,11.0,15.0,15.0,13.0,11.0,13.0,15.0,15.0,15.0,13.0,15.0,15.0,15.0,10.0,7.0,15.0,14.0,15.0,15.0,13.0,15.0,15.0,6.0,9.0,15.0,10.0,15.0,14.0,14.0,13.0,11.0,7.0,15.0,15.0,15.0,15.0,6.0,15.0,15.0,11.0,6.0,13.0,13.0,15.0,10.0,15.0,3.0,15.0,11.0,15.0,11.0,10.0,15.0,14.0,1.0,12.0,13.0,15.0,13.0,13.0,11.0,15.0,15.0,13.0,11.0,15.0,12.0,15.0,6.0,11.0,15.0,15.0,15.0,15.0,14.0,14.0,15.0,15.0,12.0,15.0,15.0,15.0,6.0,7.0,11.0,15.0,15.0,15.0,15.0,15.0,6.0,15.0,15.0,13.0,6.0,11.0,15.0,11.0,7.0,15.0,14.0,15.0,11.0,15.0,5.0,15.0,11.0,14.0,15.0,13.0,15.0,7.0,13.0,15.0,15.0,15.0,11.0,11.0,14.0,15.0,7.0,14.0,15.0,6.0,11.0,15.0,15.0,13.0,11.0,6.0,15.0,7.0,9.0,15.0,15.0,14.0,11.0,14.0,6.0,11.0,14.0,15.0,12.0,5.0,15.0,14.0,14.0,13.0,15.0,15.0,7.0,14.0,10.0,13.0,14.0,15.0,13.0,13.0,5.0,14.0,15.0,15.0,13.0,15.0,15.0,14.0,15.0,7.0,7.0,15.0,15.0,13.0,11.0,11.0,11.0,15.0,10.0,15.0,14.0,11.0,14.0,15.0,15.0,7.0,7.0,7.0,7.0,15.0,3.0,7.0,13.0,7.0,13.0,14.0,15.0,7.0,14.0,11.0,12.0,15.0,7.0,7.0,13.0,10.0,15.0,11.0,11.0,7.0,13.0,11.0,5.0,9.0,15.0,13.0,7.0,15.0,9.0,6.0,15.0,15.0,15.0,15.0,15.0,14.0,15.0,15.0,15.0,15.0,9.0,11.0,15.0,15.0,15.0,15.0,15.0,15.0,15.0,15.0,14.0,5.0,13.0,15.0,14.0,14.0,7.0,15.0,15.0,14.0,15.0,15.0,15.0,3.0,14.0,15.0,15.0,15.0,15.0,7.0,12.0,13.0,15.0,11.0,7.0,15.0,13.0,15.0,15.0,14.0,13.0,13.0,7.0,15.0,7.0,15.0,15.0,7.0,15.0,15.0,9.0,15.0,14.0,15.0,15.0,14.0,15.0,15.0,15.0,14.0,5.0,9.0,15.0,15.0,13.0,15.0,7.0,6.0,3.0,15.0,15.0,13.0,6.0,15.0,7.0,14.0,13.0,5.0,15.0,7.0,14.0,15.0,7.0,14.0,15.0,15.0,13.0,6.0,7.0,15.0,15.0,15.0,14.0,13.0,0.0,14.0,15.0,15.0,1.0,15.0,15.0,15.0,15.0,15.0,13.0,15.0,11.0,10.0,11.0,3.0,15.0,7.0,7.0,5.0,7.0,15.0,15.0,11.0,11.0,7.0,15.0,14.0,15.0,3.0,15.0,0.0,14.0,7.0,11.0,7.0,14.0,15.0,15.0,15.0,15.0,5.0,11.0,15.0,11.0,11.0,15.0,7.0,1.0,15.0,15.0,15.0,14.0,15.0,9.0,15.0,15.0,13.0,15.0,14.0,15.0,7.0,7.0,15.0,15.0,15.0,14.0,13.0,14.0,7.0,15.0,10.0,5.0,15.0,4.0,11.0,15.0,10.0,7.0,7.0,15.0,3.0,7.0,9.0,15.0,15.0,13.0,15.0,15.0,15.0,7.0,11.0,7.0,11.0,15.0,3.0,15.0,15.0,11.0,13.0,13.0,15.0,9.0,11.0,15.0,15.0,15.0,15.0,7.0,15.0,13.0,7.0,11.0,11.0,15.0,15.0,9.0,7.0,14.0,7.0,15.0,15.0,13.0,15.0,15.0,15.0,15.0,15.0,15.0,13.0,11.0,15.0,15.0,5.0,15.0,15.0,2.0,11.0,7.0,7.0,3.0,15.0,1.0,15.0,11.0,6.0,15.0,15.0,15.0,15.0,15.0,15.0,13.0,15.0,14.0,15.0,15.0,11.0,13.0,14.0,15.0,13.0,11.0,15.0,15.0,14.0,15.0,14.0,15.0,15.0,15.0,15.0,11.0,13.0,11.0,11.0,15.0,15.0,9.0,15.0,7.0,14.0,15.0,15.0,14.0,13.0,14.0,15.0,15.0,9.0,13.0,11.0,15.0,15.0,11.0,15.0,15.0,15.0,14.0,15.0,15.0,14.0,9.0,15.0,9.0,15.0,11.0,15.0,15.0,15.0,11.0,15.0,15.0,7.0,15.0,15.0,15.0,15.0,11.0,15.0,6.0,15.0,15.0,15.0,11.0,11.0,15.0],\"xaxis\":\"x\",\"yaxis\":\"y\",\"type\":\"histogram\"}],                        {\"template\":{\"data\":{\"histogram2dcontour\":[{\"type\":\"histogram2dcontour\",\"colorbar\":{\"outlinewidth\":0,\"ticks\":\"\"},\"colorscale\":[[0.0,\"#0d0887\"],[0.1111111111111111,\"#46039f\"],[0.2222222222222222,\"#7201a8\"],[0.3333333333333333,\"#9c179e\"],[0.4444444444444444,\"#bd3786\"],[0.5555555555555556,\"#d8576b\"],[0.6666666666666666,\"#ed7953\"],[0.7777777777777778,\"#fb9f3a\"],[0.8888888888888888,\"#fdca26\"],[1.0,\"#f0f921\"]]}],\"choropleth\":[{\"type\":\"choropleth\",\"colorbar\":{\"outlinewidth\":0,\"ticks\":\"\"}}],\"histogram2d\":[{\"type\":\"histogram2d\",\"colorbar\":{\"outlinewidth\":0,\"ticks\":\"\"},\"colorscale\":[[0.0,\"#0d0887\"],[0.1111111111111111,\"#46039f\"],[0.2222222222222222,\"#7201a8\"],[0.3333333333333333,\"#9c179e\"],[0.4444444444444444,\"#bd3786\"],[0.5555555555555556,\"#d8576b\"],[0.6666666666666666,\"#ed7953\"],[0.7777777777777778,\"#fb9f3a\"],[0.8888888888888888,\"#fdca26\"],[1.0,\"#f0f921\"]]}],\"heatmap\":[{\"type\":\"heatmap\",\"colorbar\":{\"outlinewidth\":0,\"ticks\":\"\"},\"colorscale\":[[0.0,\"#0d0887\"],[0.1111111111111111,\"#46039f\"],[0.2222222222222222,\"#7201a8\"],[0.3333333333333333,\"#9c179e\"],[0.4444444444444444,\"#bd3786\"],[0.5555555555555556,\"#d8576b\"],[0.6666666666666666,\"#ed7953\"],[0.7777777777777778,\"#fb9f3a\"],[0.8888888888888888,\"#fdca26\"],[1.0,\"#f0f921\"]]}],\"heatmapgl\":[{\"type\":\"heatmapgl\",\"colorbar\":{\"outlinewidth\":0,\"ticks\":\"\"},\"colorscale\":[[0.0,\"#0d0887\"],[0.1111111111111111,\"#46039f\"],[0.2222222222222222,\"#7201a8\"],[0.3333333333333333,\"#9c179e\"],[0.4444444444444444,\"#bd3786\"],[0.5555555555555556,\"#d8576b\"],[0.6666666666666666,\"#ed7953\"],[0.7777777777777778,\"#fb9f3a\"],[0.8888888888888888,\"#fdca26\"],[1.0,\"#f0f921\"]]}],\"contourcarpet\":[{\"type\":\"contourcarpet\",\"colorbar\":{\"outlinewidth\":0,\"ticks\":\"\"}}],\"contour\":[{\"type\":\"contour\",\"colorbar\":{\"outlinewidth\":0,\"ticks\":\"\"},\"colorscale\":[[0.0,\"#0d0887\"],[0.1111111111111111,\"#46039f\"],[0.2222222222222222,\"#7201a8\"],[0.3333333333333333,\"#9c179e\"],[0.4444444444444444,\"#bd3786\"],[0.5555555555555556,\"#d8576b\"],[0.6666666666666666,\"#ed7953\"],[0.7777777777777778,\"#fb9f3a\"],[0.8888888888888888,\"#fdca26\"],[1.0,\"#f0f921\"]]}],\"surface\":[{\"type\":\"surface\",\"colorbar\":{\"outlinewidth\":0,\"ticks\":\"\"},\"colorscale\":[[0.0,\"#0d0887\"],[0.1111111111111111,\"#46039f\"],[0.2222222222222222,\"#7201a8\"],[0.3333333333333333,\"#9c179e\"],[0.4444444444444444,\"#bd3786\"],[0.5555555555555556,\"#d8576b\"],[0.6666666666666666,\"#ed7953\"],[0.7777777777777778,\"#fb9f3a\"],[0.8888888888888888,\"#fdca26\"],[1.0,\"#f0f921\"]]}],\"mesh3d\":[{\"type\":\"mesh3d\",\"colorbar\":{\"outlinewidth\":0,\"ticks\":\"\"}}],\"scatter\":[{\"fillpattern\":{\"fillmode\":\"overlay\",\"size\":10,\"solidity\":0.2},\"type\":\"scatter\"}],\"parcoords\":[{\"type\":\"parcoords\",\"line\":{\"colorbar\":{\"outlinewidth\":0,\"ticks\":\"\"}}}],\"scatterpolargl\":[{\"type\":\"scatterpolargl\",\"marker\":{\"colorbar\":{\"outlinewidth\":0,\"ticks\":\"\"}}}],\"bar\":[{\"error_x\":{\"color\":\"#2a3f5f\"},\"error_y\":{\"color\":\"#2a3f5f\"},\"marker\":{\"line\":{\"color\":\"#E5ECF6\",\"width\":0.5},\"pattern\":{\"fillmode\":\"overlay\",\"size\":10,\"solidity\":0.2}},\"type\":\"bar\"}],\"scattergeo\":[{\"type\":\"scattergeo\",\"marker\":{\"colorbar\":{\"outlinewidth\":0,\"ticks\":\"\"}}}],\"scatterpolar\":[{\"type\":\"scatterpolar\",\"marker\":{\"colorbar\":{\"outlinewidth\":0,\"ticks\":\"\"}}}],\"histogram\":[{\"marker\":{\"pattern\":{\"fillmode\":\"overlay\",\"size\":10,\"solidity\":0.2}},\"type\":\"histogram\"}],\"scattergl\":[{\"type\":\"scattergl\",\"marker\":{\"colorbar\":{\"outlinewidth\":0,\"ticks\":\"\"}}}],\"scatter3d\":[{\"type\":\"scatter3d\",\"line\":{\"colorbar\":{\"outlinewidth\":0,\"ticks\":\"\"}},\"marker\":{\"colorbar\":{\"outlinewidth\":0,\"ticks\":\"\"}}}],\"scattermapbox\":[{\"type\":\"scattermapbox\",\"marker\":{\"colorbar\":{\"outlinewidth\":0,\"ticks\":\"\"}}}],\"scatterternary\":[{\"type\":\"scatterternary\",\"marker\":{\"colorbar\":{\"outlinewidth\":0,\"ticks\":\"\"}}}],\"scattercarpet\":[{\"type\":\"scattercarpet\",\"marker\":{\"colorbar\":{\"outlinewidth\":0,\"ticks\":\"\"}}}],\"carpet\":[{\"aaxis\":{\"endlinecolor\":\"#2a3f5f\",\"gridcolor\":\"white\",\"linecolor\":\"white\",\"minorgridcolor\":\"white\",\"startlinecolor\":\"#2a3f5f\"},\"baxis\":{\"endlinecolor\":\"#2a3f5f\",\"gridcolor\":\"white\",\"linecolor\":\"white\",\"minorgridcolor\":\"white\",\"startlinecolor\":\"#2a3f5f\"},\"type\":\"carpet\"}],\"table\":[{\"cells\":{\"fill\":{\"color\":\"#EBF0F8\"},\"line\":{\"color\":\"white\"}},\"header\":{\"fill\":{\"color\":\"#C8D4E3\"},\"line\":{\"color\":\"white\"}},\"type\":\"table\"}],\"barpolar\":[{\"marker\":{\"line\":{\"color\":\"#E5ECF6\",\"width\":0.5},\"pattern\":{\"fillmode\":\"overlay\",\"size\":10,\"solidity\":0.2}},\"type\":\"barpolar\"}],\"pie\":[{\"automargin\":true,\"type\":\"pie\"}]},\"layout\":{\"autotypenumbers\":\"strict\",\"colorway\":[\"#636efa\",\"#EF553B\",\"#00cc96\",\"#ab63fa\",\"#FFA15A\",\"#19d3f3\",\"#FF6692\",\"#B6E880\",\"#FF97FF\",\"#FECB52\"],\"font\":{\"color\":\"#2a3f5f\"},\"hovermode\":\"closest\",\"hoverlabel\":{\"align\":\"left\"},\"paper_bgcolor\":\"white\",\"plot_bgcolor\":\"#E5ECF6\",\"polar\":{\"bgcolor\":\"#E5ECF6\",\"angularaxis\":{\"gridcolor\":\"white\",\"linecolor\":\"white\",\"ticks\":\"\"},\"radialaxis\":{\"gridcolor\":\"white\",\"linecolor\":\"white\",\"ticks\":\"\"}},\"ternary\":{\"bgcolor\":\"#E5ECF6\",\"aaxis\":{\"gridcolor\":\"white\",\"linecolor\":\"white\",\"ticks\":\"\"},\"baxis\":{\"gridcolor\":\"white\",\"linecolor\":\"white\",\"ticks\":\"\"},\"caxis\":{\"gridcolor\":\"white\",\"linecolor\":\"white\",\"ticks\":\"\"}},\"coloraxis\":{\"colorbar\":{\"outlinewidth\":0,\"ticks\":\"\"}},\"colorscale\":{\"sequential\":[[0.0,\"#0d0887\"],[0.1111111111111111,\"#46039f\"],[0.2222222222222222,\"#7201a8\"],[0.3333333333333333,\"#9c179e\"],[0.4444444444444444,\"#bd3786\"],[0.5555555555555556,\"#d8576b\"],[0.6666666666666666,\"#ed7953\"],[0.7777777777777778,\"#fb9f3a\"],[0.8888888888888888,\"#fdca26\"],[1.0,\"#f0f921\"]],\"sequentialminus\":[[0.0,\"#0d0887\"],[0.1111111111111111,\"#46039f\"],[0.2222222222222222,\"#7201a8\"],[0.3333333333333333,\"#9c179e\"],[0.4444444444444444,\"#bd3786\"],[0.5555555555555556,\"#d8576b\"],[0.6666666666666666,\"#ed7953\"],[0.7777777777777778,\"#fb9f3a\"],[0.8888888888888888,\"#fdca26\"],[1.0,\"#f0f921\"]],\"diverging\":[[0,\"#8e0152\"],[0.1,\"#c51b7d\"],[0.2,\"#de77ae\"],[0.3,\"#f1b6da\"],[0.4,\"#fde0ef\"],[0.5,\"#f7f7f7\"],[0.6,\"#e6f5d0\"],[0.7,\"#b8e186\"],[0.8,\"#7fbc41\"],[0.9,\"#4d9221\"],[1,\"#276419\"]]},\"xaxis\":{\"gridcolor\":\"white\",\"linecolor\":\"white\",\"ticks\":\"\",\"title\":{\"standoff\":15},\"zerolinecolor\":\"white\",\"automargin\":true,\"zerolinewidth\":2},\"yaxis\":{\"gridcolor\":\"white\",\"linecolor\":\"white\",\"ticks\":\"\",\"title\":{\"standoff\":15},\"zerolinecolor\":\"white\",\"automargin\":true,\"zerolinewidth\":2},\"scene\":{\"xaxis\":{\"backgroundcolor\":\"#E5ECF6\",\"gridcolor\":\"white\",\"linecolor\":\"white\",\"showbackground\":true,\"ticks\":\"\",\"zerolinecolor\":\"white\",\"gridwidth\":2},\"yaxis\":{\"backgroundcolor\":\"#E5ECF6\",\"gridcolor\":\"white\",\"linecolor\":\"white\",\"showbackground\":true,\"ticks\":\"\",\"zerolinecolor\":\"white\",\"gridwidth\":2},\"zaxis\":{\"backgroundcolor\":\"#E5ECF6\",\"gridcolor\":\"white\",\"linecolor\":\"white\",\"showbackground\":true,\"ticks\":\"\",\"zerolinecolor\":\"white\",\"gridwidth\":2}},\"shapedefaults\":{\"line\":{\"color\":\"#2a3f5f\"}},\"annotationdefaults\":{\"arrowcolor\":\"#2a3f5f\",\"arrowhead\":0,\"arrowwidth\":1},\"geo\":{\"bgcolor\":\"white\",\"landcolor\":\"#E5ECF6\",\"subunitcolor\":\"white\",\"showland\":true,\"showlakes\":true,\"lakecolor\":\"white\"},\"title\":{\"x\":0.05},\"mapbox\":{\"style\":\"light\"}}},\"xaxis\":{\"anchor\":\"y\",\"domain\":[0.0,1.0],\"title\":{\"text\":\"State\"},\"tickmode\":\"array\",\"tickvals\":[0,1,2,3,4,5,6,7,8,9,10,11,12,13,14,15],\"ticktext\":[\"|0000\\u003e\",\"|0001\\u003e\",\"|0010\\u003e\",\"|0011\\u003e\",\"|0100\\u003e\",\"|0101\\u003e\",\"|0110\\u003e\",\"|0111\\u003e\",\"|1000\\u003e\",\"|1001\\u003e\",\"|1010\\u003e\",\"|1011\\u003e\",\"|1100\\u003e\",\"|1101\\u003e\",\"|1110\\u003e\",\"|1111\\u003e\"]},\"yaxis\":{\"anchor\":\"x\",\"domain\":[0.0,1.0],\"title\":{\"text\":\"Count\"}},\"legend\":{\"tracegroupgap\":0},\"margin\":{\"t\":60},\"barmode\":\"relative\",\"title\":{\"text\":\"\\u0440\\u0430\\u0441\\u043f\\u0440\\u0435\\u0434\\u0435\\u043b\\u0435\\u043d\\u0438\\u0435 \\u0441\\u043e\\u0441\\u0442\\u043e\\u044f\\u043d\\u0438\\u044f \\u0438\\u043e\\u043d\\u043e\\u0432 (\\u043a\\u0443\\u0431\\u0438\\u0442\\u043e\\u0432) \\u043f\\u043e \\u0440\\u0443\\u0447\\u043d\\u043e\\u0439 \\u0440\\u0430\\u0437\\u043c\\u0435\\u0442\\u043a\\u0435\"},\"bargap\":0.2},                        {\"responsive\": true}                    ).then(function(){\n",
       "                            \n",
       "var gd = document.getElementById('c37db1f0-7592-451c-9b71-cac2e64352ab');\n",
       "var x = new MutationObserver(function (mutations, observer) {{\n",
       "        var display = window.getComputedStyle(gd).display;\n",
       "        if (!display || display === 'none') {{\n",
       "            console.log([gd, 'removed!']);\n",
       "            Plotly.purge(gd);\n",
       "            observer.disconnect();\n",
       "        }}\n",
       "}});\n",
       "\n",
       "// Listen for the removal of the full notebook cells\n",
       "var notebookContainer = gd.closest('#notebook-container');\n",
       "if (notebookContainer) {{\n",
       "    x.observe(notebookContainer, {childList: true});\n",
       "}}\n",
       "\n",
       "// Listen for the clearing of the current output cell\n",
       "var outputEl = gd.closest('.output');\n",
       "if (outputEl) {{\n",
       "    x.observe(outputEl, {childList: true});\n",
       "}}\n",
       "\n",
       "                        })                };                            </script>        </div>\n",
       "</body>\n",
       "</html>"
      ]
     },
     "metadata": {},
     "output_type": "display_data"
    }
   ],
   "source": [
    "import plotly.express as px\n",
    "\n",
    "# создадим объект fig, в который поместим столбчатую диаграмму\n",
    "fig = px.histogram(df_true, x=df_true.Class, nbins=16)\n",
    "\n",
    "# применим метод .update_layout к объекту fig\n",
    "fig.update_layout(\n",
    "    title_text = 'распределение состояния ионов (кубитов) по ручной разметке', # заголовок\n",
    "    xaxis_title_text = 'State', # подпись к оси x\n",
    "    yaxis_title_text = 'Count', # подпись к оси y\n",
    "    bargap = 0.2, # расстояние между столбцами\n",
    "\n",
    "    # подписи классов на оси x\n",
    "    xaxis = dict(\n",
    "        tickmode = 'array',\n",
    "        tickvals = [0,1,2,3,4,5,6,7,8,9,10,11,12,13,14,15],\n",
    "        ticktext = Category #['Class 1', 'Class 2', 'Class 3'...]\n",
    "    )\n",
    ")\n",
    "\n",
    "fig.show() #распределение состояния ионов (кубитов) по ручной разметке"
   ]
  },
  {
   "cell_type": "code",
   "execution_count": 8,
   "metadata": {
    "colab": {
     "base_uri": "https://localhost:8080/",
     "height": 542
    },
    "id": "w0srLpiqaBP0",
    "outputId": "a6218ab9-54be-4edd-af50-1f380211912a"
   },
   "outputs": [
    {
     "data": {
      "text/html": [
       "<html>\n",
       "<head><meta charset=\"utf-8\" /></head>\n",
       "<body>\n",
       "    <div>            <script src=\"https://cdnjs.cloudflare.com/ajax/libs/mathjax/2.7.5/MathJax.js?config=TeX-AMS-MML_SVG\"></script><script type=\"text/javascript\">if (window.MathJax && window.MathJax.Hub && window.MathJax.Hub.Config) {window.MathJax.Hub.Config({SVG: {font: \"STIX-Web\"}});}</script>                <script type=\"text/javascript\">window.PlotlyConfig = {MathJaxConfig: 'local'};</script>\n",
       "        <script charset=\"utf-8\" src=\"https://cdn.plot.ly/plotly-2.24.1.min.js\"></script>                <div id=\"ddbeb637-a0fa-4091-9d72-6637c9de6cbc\" class=\"plotly-graph-div\" style=\"height:525px; width:100%;\"></div>            <script type=\"text/javascript\">                                    window.PLOTLYENV=window.PLOTLYENV || {};                                    if (document.getElementById(\"ddbeb637-a0fa-4091-9d72-6637c9de6cbc\")) {                    Plotly.newPlot(                        \"ddbeb637-a0fa-4091-9d72-6637c9de6cbc\",                        [{\"alignmentgroup\":\"True\",\"bingroup\":\"x\",\"hovertemplate\":\"Class=%{x}\\u003cbr\\u003ecount=%{y}\\u003cextra\\u003e\\u003c\\u002fextra\\u003e\",\"legendgroup\":\"\",\"marker\":{\"color\":\"#636efa\",\"pattern\":{\"shape\":\"\"}},\"name\":\"\",\"nbinsx\":16,\"offsetgroup\":\"\",\"orientation\":\"v\",\"showlegend\":false,\"x\":[15.0,15.0,6.0,13.0,14.0,15.0,15.0,15.0,14.0,13.0,13.0,15.0,14.0,14.0,9.0,11.0,13.0,15.0,15.0,15.0,1.0,13.0,15.0,15.0,7.0,15.0,15.0,15.0,15.0,15.0,15.0,15.0,14.0,9.0,14.0,14.0,15.0,11.0,15.0,11.0,15.0,15.0,13.0,14.0,14.0,11.0,15.0,14.0,12.0,15.0,13.0,15.0,15.0,13.0,15.0,15.0,15.0,15.0,15.0,15.0,6.0,7.0,6.0,15.0,14.0,3.0,15.0,5.0,6.0,3.0,11.0,13.0,11.0,15.0,7.0,15.0,7.0,15.0,3.0,11.0,15.0,11.0,15.0,15.0,13.0,7.0,15.0,15.0,13.0,14.0,7.0,9.0,15.0,15.0,15.0,15.0,15.0,15.0,15.0,11.0,14.0,15.0,14.0,13.0,11.0,15.0,15.0,13.0,15.0,15.0,15.0,15.0,13.0,7.0,15.0,11.0,7.0,15.0,15.0,15.0,15.0,15.0,11.0,15.0,10.0,13.0,5.0,15.0,7.0,15.0,15.0,15.0,3.0,14.0,15.0,15.0,15.0,15.0,11.0,11.0,15.0,15.0,13.0,13.0,15.0,14.0,5.0,14.0,13.0,7.0,7.0,5.0,15.0,13.0,15.0,15.0,13.0,15.0,14.0,14.0,15.0,15.0,15.0,15.0,11.0,15.0,15.0,7.0,3.0,15.0,15.0,15.0,14.0,6.0,15.0,15.0,11.0,9.0,3.0,15.0,15.0,15.0,15.0,14.0,15.0,15.0,15.0,9.0,7.0,15.0,15.0,7.0,15.0,15.0,11.0,7.0,15.0,7.0,7.0,5.0,15.0,15.0,7.0,15.0,15.0,14.0,14.0,7.0,7.0,15.0,3.0,15.0,7.0,6.0,7.0,13.0,15.0,11.0,15.0,15.0,3.0,11.0,15.0,15.0,7.0,15.0,6.0,7.0,15.0,15.0,15.0,11.0,15.0,11.0,15.0,14.0,15.0,15.0,6.0,14.0,14.0,10.0,6.0,7.0,1.0,15.0,7.0,15.0,7.0,7.0,7.0,15.0,6.0,15.0,15.0,7.0,7.0,15.0,11.0,15.0,14.0,11.0,15.0,15.0,15.0,10.0,5.0,15.0,15.0,15.0,13.0,15.0,15.0,14.0,7.0,5.0,15.0,15.0,2.0,15.0,15.0,10.0,11.0,11.0,11.0,15.0,7.0,10.0,13.0,15.0,15.0,15.0,15.0,7.0,15.0,11.0,15.0,15.0,15.0,1.0,3.0,13.0,10.0,15.0,14.0,11.0,15.0,15.0,11.0,11.0,13.0,3.0,15.0,15.0,14.0,11.0,15.0,15.0,7.0,15.0,13.0,13.0,15.0,7.0,7.0,15.0,15.0,7.0,15.0,7.0,15.0,14.0,15.0,14.0,5.0,15.0,7.0,15.0,14.0,7.0,12.0,11.0,7.0,13.0,14.0,15.0,15.0,13.0,13.0,7.0,7.0,15.0,10.0,11.0,15.0,11.0,15.0,15.0,5.0,3.0,15.0,14.0,14.0,3.0,4.0,15.0,10.0,6.0,15.0,13.0,13.0,13.0,13.0,15.0,13.0,15.0,15.0,10.0,15.0,3.0,15.0,13.0,7.0,14.0,13.0,15.0,7.0,9.0,15.0,15.0,7.0,14.0,14.0,15.0,7.0,3.0,11.0,15.0,15.0,15.0,15.0,14.0,14.0,15.0,14.0,14.0,7.0,13.0,15.0,14.0,7.0,11.0,14.0,14.0,11.0,11.0,14.0,15.0,3.0,7.0,3.0,15.0,15.0,15.0,10.0,14.0,15.0,15.0,10.0,11.0,14.0,7.0,15.0,11.0,11.0,15.0,15.0,12.0,11.0,15.0,14.0,15.0,11.0,11.0,14.0,11.0,14.0,6.0,7.0,15.0,15.0,11.0,15.0,15.0,13.0,11.0,13.0,15.0,15.0,15.0,13.0,15.0,15.0,15.0,10.0,7.0,15.0,14.0,15.0,15.0,13.0,15.0,15.0,6.0,9.0,15.0,10.0,15.0,14.0,14.0,13.0,11.0,7.0,15.0,15.0,15.0,15.0,6.0,15.0,15.0,11.0,6.0,13.0,13.0,15.0,10.0,15.0,3.0,15.0,11.0,15.0,11.0,10.0,15.0,14.0,1.0,12.0,13.0,15.0,13.0,13.0,11.0,15.0,15.0,13.0,11.0,15.0,12.0,15.0,6.0,11.0,15.0,15.0,15.0,15.0,14.0,14.0,15.0,15.0,12.0,15.0,15.0,15.0,6.0,7.0,11.0,15.0,15.0,15.0,15.0,15.0,6.0,15.0,15.0,13.0,6.0,11.0,15.0,11.0,7.0,15.0,14.0,15.0,11.0,15.0,5.0,15.0,11.0,14.0,15.0,13.0,15.0,7.0,13.0,15.0,15.0,15.0,11.0,11.0,14.0,15.0,7.0,14.0,15.0,6.0,11.0,15.0,15.0,13.0,11.0,6.0,15.0,7.0,9.0,15.0,15.0,14.0,11.0,14.0,6.0,11.0,14.0,15.0,12.0,5.0,15.0,14.0,14.0,13.0,15.0,15.0,7.0,14.0,10.0,13.0,14.0,15.0,13.0,13.0,5.0,14.0,15.0,15.0,13.0,15.0,15.0,14.0,15.0,7.0,7.0,15.0,15.0,13.0,11.0,11.0,11.0,15.0,10.0,15.0,14.0,11.0,14.0,15.0,15.0,7.0,7.0,7.0,7.0,15.0,3.0,7.0,13.0,7.0,13.0,14.0,15.0,7.0,14.0,11.0,12.0,15.0,7.0,7.0,13.0,10.0,15.0,11.0,11.0,7.0,13.0,11.0,5.0,9.0,15.0,13.0,7.0,15.0,9.0,6.0,15.0,15.0,15.0,15.0,15.0,14.0,15.0,15.0,15.0,15.0,9.0,11.0,15.0,15.0,15.0,15.0,15.0,15.0,15.0,15.0,14.0,5.0,13.0,15.0,14.0,14.0,7.0,15.0,15.0,14.0,15.0,15.0,15.0,3.0,14.0,15.0,15.0,15.0,15.0,7.0,12.0,13.0,15.0,11.0,7.0,15.0,13.0,15.0,15.0,14.0,13.0,13.0,7.0,15.0,7.0,15.0,15.0,7.0,15.0,15.0,9.0,15.0,14.0,15.0,15.0,14.0,15.0,15.0,15.0,14.0,5.0,9.0,15.0,15.0,13.0,15.0,7.0,6.0,3.0,15.0,15.0,13.0,6.0,15.0,7.0,14.0,13.0,5.0,15.0,7.0,14.0,15.0,7.0,14.0,15.0,15.0,13.0,6.0,7.0,15.0,15.0,15.0,14.0,13.0,0.0,14.0,15.0,15.0,1.0,15.0,15.0,15.0,15.0,15.0,13.0,15.0,11.0,10.0,11.0,3.0,15.0,7.0,7.0,5.0,7.0,15.0,15.0,11.0,11.0,7.0,15.0,14.0,15.0,3.0,15.0,0.0,14.0,7.0,11.0,7.0,14.0,15.0,15.0,15.0,15.0,5.0,11.0,15.0,11.0,11.0,15.0,7.0,1.0,15.0,15.0,15.0,14.0,15.0,9.0,15.0,15.0,13.0,15.0,14.0,15.0,7.0,7.0,15.0,15.0,15.0,14.0,13.0,14.0,7.0,15.0,10.0,5.0,15.0,4.0,11.0,15.0,10.0,7.0,7.0,15.0,3.0,7.0,9.0,15.0,15.0,13.0,15.0,15.0,15.0,7.0,11.0,7.0,11.0,15.0,3.0,15.0,15.0,11.0,13.0,13.0,15.0,9.0,11.0,15.0,15.0,15.0,15.0,7.0,15.0,13.0,7.0,11.0,11.0,15.0,15.0,9.0,7.0,14.0,7.0,15.0,15.0,13.0,15.0,15.0,15.0,15.0,15.0,15.0,13.0,11.0,15.0,15.0,5.0,15.0,15.0,2.0,11.0,7.0,7.0,3.0,15.0,1.0,15.0,11.0,6.0,15.0,15.0,15.0,15.0,15.0,15.0,13.0,15.0,14.0,15.0,15.0,11.0,13.0,14.0,15.0,13.0,11.0,15.0,15.0,14.0,15.0,14.0,15.0,15.0,15.0,15.0,11.0,13.0,11.0,11.0,15.0,15.0,9.0,15.0,7.0,14.0,15.0,15.0,14.0,13.0,14.0,15.0,15.0,9.0,13.0,11.0,15.0,15.0,11.0,15.0,15.0,15.0,14.0,15.0,15.0,14.0,9.0,15.0,9.0,15.0,11.0,15.0,15.0,15.0,11.0,15.0,15.0,7.0,15.0,15.0,15.0,15.0,11.0,15.0,6.0,15.0,15.0,15.0,11.0,11.0,15.0],\"xaxis\":\"x\",\"yaxis\":\"y\",\"type\":\"histogram\"}],                        {\"template\":{\"data\":{\"histogram2dcontour\":[{\"type\":\"histogram2dcontour\",\"colorbar\":{\"outlinewidth\":0,\"ticks\":\"\"},\"colorscale\":[[0.0,\"#0d0887\"],[0.1111111111111111,\"#46039f\"],[0.2222222222222222,\"#7201a8\"],[0.3333333333333333,\"#9c179e\"],[0.4444444444444444,\"#bd3786\"],[0.5555555555555556,\"#d8576b\"],[0.6666666666666666,\"#ed7953\"],[0.7777777777777778,\"#fb9f3a\"],[0.8888888888888888,\"#fdca26\"],[1.0,\"#f0f921\"]]}],\"choropleth\":[{\"type\":\"choropleth\",\"colorbar\":{\"outlinewidth\":0,\"ticks\":\"\"}}],\"histogram2d\":[{\"type\":\"histogram2d\",\"colorbar\":{\"outlinewidth\":0,\"ticks\":\"\"},\"colorscale\":[[0.0,\"#0d0887\"],[0.1111111111111111,\"#46039f\"],[0.2222222222222222,\"#7201a8\"],[0.3333333333333333,\"#9c179e\"],[0.4444444444444444,\"#bd3786\"],[0.5555555555555556,\"#d8576b\"],[0.6666666666666666,\"#ed7953\"],[0.7777777777777778,\"#fb9f3a\"],[0.8888888888888888,\"#fdca26\"],[1.0,\"#f0f921\"]]}],\"heatmap\":[{\"type\":\"heatmap\",\"colorbar\":{\"outlinewidth\":0,\"ticks\":\"\"},\"colorscale\":[[0.0,\"#0d0887\"],[0.1111111111111111,\"#46039f\"],[0.2222222222222222,\"#7201a8\"],[0.3333333333333333,\"#9c179e\"],[0.4444444444444444,\"#bd3786\"],[0.5555555555555556,\"#d8576b\"],[0.6666666666666666,\"#ed7953\"],[0.7777777777777778,\"#fb9f3a\"],[0.8888888888888888,\"#fdca26\"],[1.0,\"#f0f921\"]]}],\"heatmapgl\":[{\"type\":\"heatmapgl\",\"colorbar\":{\"outlinewidth\":0,\"ticks\":\"\"},\"colorscale\":[[0.0,\"#0d0887\"],[0.1111111111111111,\"#46039f\"],[0.2222222222222222,\"#7201a8\"],[0.3333333333333333,\"#9c179e\"],[0.4444444444444444,\"#bd3786\"],[0.5555555555555556,\"#d8576b\"],[0.6666666666666666,\"#ed7953\"],[0.7777777777777778,\"#fb9f3a\"],[0.8888888888888888,\"#fdca26\"],[1.0,\"#f0f921\"]]}],\"contourcarpet\":[{\"type\":\"contourcarpet\",\"colorbar\":{\"outlinewidth\":0,\"ticks\":\"\"}}],\"contour\":[{\"type\":\"contour\",\"colorbar\":{\"outlinewidth\":0,\"ticks\":\"\"},\"colorscale\":[[0.0,\"#0d0887\"],[0.1111111111111111,\"#46039f\"],[0.2222222222222222,\"#7201a8\"],[0.3333333333333333,\"#9c179e\"],[0.4444444444444444,\"#bd3786\"],[0.5555555555555556,\"#d8576b\"],[0.6666666666666666,\"#ed7953\"],[0.7777777777777778,\"#fb9f3a\"],[0.8888888888888888,\"#fdca26\"],[1.0,\"#f0f921\"]]}],\"surface\":[{\"type\":\"surface\",\"colorbar\":{\"outlinewidth\":0,\"ticks\":\"\"},\"colorscale\":[[0.0,\"#0d0887\"],[0.1111111111111111,\"#46039f\"],[0.2222222222222222,\"#7201a8\"],[0.3333333333333333,\"#9c179e\"],[0.4444444444444444,\"#bd3786\"],[0.5555555555555556,\"#d8576b\"],[0.6666666666666666,\"#ed7953\"],[0.7777777777777778,\"#fb9f3a\"],[0.8888888888888888,\"#fdca26\"],[1.0,\"#f0f921\"]]}],\"mesh3d\":[{\"type\":\"mesh3d\",\"colorbar\":{\"outlinewidth\":0,\"ticks\":\"\"}}],\"scatter\":[{\"fillpattern\":{\"fillmode\":\"overlay\",\"size\":10,\"solidity\":0.2},\"type\":\"scatter\"}],\"parcoords\":[{\"type\":\"parcoords\",\"line\":{\"colorbar\":{\"outlinewidth\":0,\"ticks\":\"\"}}}],\"scatterpolargl\":[{\"type\":\"scatterpolargl\",\"marker\":{\"colorbar\":{\"outlinewidth\":0,\"ticks\":\"\"}}}],\"bar\":[{\"error_x\":{\"color\":\"#2a3f5f\"},\"error_y\":{\"color\":\"#2a3f5f\"},\"marker\":{\"line\":{\"color\":\"#E5ECF6\",\"width\":0.5},\"pattern\":{\"fillmode\":\"overlay\",\"size\":10,\"solidity\":0.2}},\"type\":\"bar\"}],\"scattergeo\":[{\"type\":\"scattergeo\",\"marker\":{\"colorbar\":{\"outlinewidth\":0,\"ticks\":\"\"}}}],\"scatterpolar\":[{\"type\":\"scatterpolar\",\"marker\":{\"colorbar\":{\"outlinewidth\":0,\"ticks\":\"\"}}}],\"histogram\":[{\"marker\":{\"pattern\":{\"fillmode\":\"overlay\",\"size\":10,\"solidity\":0.2}},\"type\":\"histogram\"}],\"scattergl\":[{\"type\":\"scattergl\",\"marker\":{\"colorbar\":{\"outlinewidth\":0,\"ticks\":\"\"}}}],\"scatter3d\":[{\"type\":\"scatter3d\",\"line\":{\"colorbar\":{\"outlinewidth\":0,\"ticks\":\"\"}},\"marker\":{\"colorbar\":{\"outlinewidth\":0,\"ticks\":\"\"}}}],\"scattermapbox\":[{\"type\":\"scattermapbox\",\"marker\":{\"colorbar\":{\"outlinewidth\":0,\"ticks\":\"\"}}}],\"scatterternary\":[{\"type\":\"scatterternary\",\"marker\":{\"colorbar\":{\"outlinewidth\":0,\"ticks\":\"\"}}}],\"scattercarpet\":[{\"type\":\"scattercarpet\",\"marker\":{\"colorbar\":{\"outlinewidth\":0,\"ticks\":\"\"}}}],\"carpet\":[{\"aaxis\":{\"endlinecolor\":\"#2a3f5f\",\"gridcolor\":\"white\",\"linecolor\":\"white\",\"minorgridcolor\":\"white\",\"startlinecolor\":\"#2a3f5f\"},\"baxis\":{\"endlinecolor\":\"#2a3f5f\",\"gridcolor\":\"white\",\"linecolor\":\"white\",\"minorgridcolor\":\"white\",\"startlinecolor\":\"#2a3f5f\"},\"type\":\"carpet\"}],\"table\":[{\"cells\":{\"fill\":{\"color\":\"#EBF0F8\"},\"line\":{\"color\":\"white\"}},\"header\":{\"fill\":{\"color\":\"#C8D4E3\"},\"line\":{\"color\":\"white\"}},\"type\":\"table\"}],\"barpolar\":[{\"marker\":{\"line\":{\"color\":\"#E5ECF6\",\"width\":0.5},\"pattern\":{\"fillmode\":\"overlay\",\"size\":10,\"solidity\":0.2}},\"type\":\"barpolar\"}],\"pie\":[{\"automargin\":true,\"type\":\"pie\"}]},\"layout\":{\"autotypenumbers\":\"strict\",\"colorway\":[\"#636efa\",\"#EF553B\",\"#00cc96\",\"#ab63fa\",\"#FFA15A\",\"#19d3f3\",\"#FF6692\",\"#B6E880\",\"#FF97FF\",\"#FECB52\"],\"font\":{\"color\":\"#2a3f5f\"},\"hovermode\":\"closest\",\"hoverlabel\":{\"align\":\"left\"},\"paper_bgcolor\":\"white\",\"plot_bgcolor\":\"#E5ECF6\",\"polar\":{\"bgcolor\":\"#E5ECF6\",\"angularaxis\":{\"gridcolor\":\"white\",\"linecolor\":\"white\",\"ticks\":\"\"},\"radialaxis\":{\"gridcolor\":\"white\",\"linecolor\":\"white\",\"ticks\":\"\"}},\"ternary\":{\"bgcolor\":\"#E5ECF6\",\"aaxis\":{\"gridcolor\":\"white\",\"linecolor\":\"white\",\"ticks\":\"\"},\"baxis\":{\"gridcolor\":\"white\",\"linecolor\":\"white\",\"ticks\":\"\"},\"caxis\":{\"gridcolor\":\"white\",\"linecolor\":\"white\",\"ticks\":\"\"}},\"coloraxis\":{\"colorbar\":{\"outlinewidth\":0,\"ticks\":\"\"}},\"colorscale\":{\"sequential\":[[0.0,\"#0d0887\"],[0.1111111111111111,\"#46039f\"],[0.2222222222222222,\"#7201a8\"],[0.3333333333333333,\"#9c179e\"],[0.4444444444444444,\"#bd3786\"],[0.5555555555555556,\"#d8576b\"],[0.6666666666666666,\"#ed7953\"],[0.7777777777777778,\"#fb9f3a\"],[0.8888888888888888,\"#fdca26\"],[1.0,\"#f0f921\"]],\"sequentialminus\":[[0.0,\"#0d0887\"],[0.1111111111111111,\"#46039f\"],[0.2222222222222222,\"#7201a8\"],[0.3333333333333333,\"#9c179e\"],[0.4444444444444444,\"#bd3786\"],[0.5555555555555556,\"#d8576b\"],[0.6666666666666666,\"#ed7953\"],[0.7777777777777778,\"#fb9f3a\"],[0.8888888888888888,\"#fdca26\"],[1.0,\"#f0f921\"]],\"diverging\":[[0,\"#8e0152\"],[0.1,\"#c51b7d\"],[0.2,\"#de77ae\"],[0.3,\"#f1b6da\"],[0.4,\"#fde0ef\"],[0.5,\"#f7f7f7\"],[0.6,\"#e6f5d0\"],[0.7,\"#b8e186\"],[0.8,\"#7fbc41\"],[0.9,\"#4d9221\"],[1,\"#276419\"]]},\"xaxis\":{\"gridcolor\":\"white\",\"linecolor\":\"white\",\"ticks\":\"\",\"title\":{\"standoff\":15},\"zerolinecolor\":\"white\",\"automargin\":true,\"zerolinewidth\":2},\"yaxis\":{\"gridcolor\":\"white\",\"linecolor\":\"white\",\"ticks\":\"\",\"title\":{\"standoff\":15},\"zerolinecolor\":\"white\",\"automargin\":true,\"zerolinewidth\":2},\"scene\":{\"xaxis\":{\"backgroundcolor\":\"#E5ECF6\",\"gridcolor\":\"white\",\"linecolor\":\"white\",\"showbackground\":true,\"ticks\":\"\",\"zerolinecolor\":\"white\",\"gridwidth\":2},\"yaxis\":{\"backgroundcolor\":\"#E5ECF6\",\"gridcolor\":\"white\",\"linecolor\":\"white\",\"showbackground\":true,\"ticks\":\"\",\"zerolinecolor\":\"white\",\"gridwidth\":2},\"zaxis\":{\"backgroundcolor\":\"#E5ECF6\",\"gridcolor\":\"white\",\"linecolor\":\"white\",\"showbackground\":true,\"ticks\":\"\",\"zerolinecolor\":\"white\",\"gridwidth\":2}},\"shapedefaults\":{\"line\":{\"color\":\"#2a3f5f\"}},\"annotationdefaults\":{\"arrowcolor\":\"#2a3f5f\",\"arrowhead\":0,\"arrowwidth\":1},\"geo\":{\"bgcolor\":\"white\",\"landcolor\":\"#E5ECF6\",\"subunitcolor\":\"white\",\"showland\":true,\"showlakes\":true,\"lakecolor\":\"white\"},\"title\":{\"x\":0.05},\"mapbox\":{\"style\":\"light\"}}},\"xaxis\":{\"anchor\":\"y\",\"domain\":[0.0,1.0],\"title\":{\"text\":\"State\"},\"tickmode\":\"array\",\"tickvals\":[0,1,2,3,4,5,6,7,8,9,10,11,12,13,14,15],\"ticktext\":[\"|0000\\u003e\",\"|0001\\u003e\",\"|0010\\u003e\",\"|0011\\u003e\",\"|0100\\u003e\",\"|0101\\u003e\",\"|0110\\u003e\",\"|0111\\u003e\",\"|1000\\u003e\",\"|1001\\u003e\",\"|1010\\u003e\",\"|1011\\u003e\",\"|1100\\u003e\",\"|1101\\u003e\",\"|1110\\u003e\",\"|1111\\u003e\"]},\"yaxis\":{\"anchor\":\"x\",\"domain\":[0.0,1.0],\"title\":{\"text\":\"Count\"}},\"legend\":{\"tracegroupgap\":0},\"margin\":{\"t\":60},\"barmode\":\"relative\",\"title\":{\"text\":\"\\u0440\\u0430\\u0441\\u043f\\u0440\\u0435\\u0434\\u0435\\u043b\\u0435\\u043d\\u0438\\u0435 \\u0441\\u043e\\u0441\\u0442\\u043e\\u044f\\u043d\\u0438\\u044f \\u0438\\u043e\\u043d\\u043e\\u0432 (\\u043a\\u0443\\u0431\\u0438\\u0442\\u043e\\u0432) \\u043f\\u043e \\u0430\\u0432\\u0442\\u043e\\u043c\\u0430\\u0442\\u0438\\u0447\\u0435\\u0441\\u043a\\u043e\\u0439 \\u0440\\u0430\\u0437\\u043c\\u0435\\u0442\\u043a\\u0435\"},\"bargap\":0.2},                        {\"responsive\": true}                    ).then(function(){\n",
       "                            \n",
       "var gd = document.getElementById('ddbeb637-a0fa-4091-9d72-6637c9de6cbc');\n",
       "var x = new MutationObserver(function (mutations, observer) {{\n",
       "        var display = window.getComputedStyle(gd).display;\n",
       "        if (!display || display === 'none') {{\n",
       "            console.log([gd, 'removed!']);\n",
       "            Plotly.purge(gd);\n",
       "            observer.disconnect();\n",
       "        }}\n",
       "}});\n",
       "\n",
       "// Listen for the removal of the full notebook cells\n",
       "var notebookContainer = gd.closest('#notebook-container');\n",
       "if (notebookContainer) {{\n",
       "    x.observe(notebookContainer, {childList: true});\n",
       "}}\n",
       "\n",
       "// Listen for the clearing of the current output cell\n",
       "var outputEl = gd.closest('.output');\n",
       "if (outputEl) {{\n",
       "    x.observe(outputEl, {childList: true});\n",
       "}}\n",
       "\n",
       "                        })                };                            </script>        </div>\n",
       "</body>\n",
       "</html>"
      ]
     },
     "metadata": {},
     "output_type": "display_data"
    }
   ],
   "source": [
    "import plotly.express as px\n",
    "\n",
    "# создадим объект fig, в который поместим столбчатую диаграмму\n",
    "fig = px.histogram(df_true, x=df_true.Class, nbins=16)\n",
    "\n",
    "# применим метод .update_layout к объекту fig\n",
    "fig.update_layout(\n",
    "    title_text = 'распределение состояния ионов (кубитов) по автоматической разметке', # заголовок\n",
    "    xaxis_title_text = 'State', # подпись к оси x\n",
    "    yaxis_title_text = 'Count', # подпись к оси y\n",
    "    bargap = 0.2, # расстояние между столбцами\n",
    "\n",
    "    # подписи классов на оси x\n",
    "    xaxis = dict(\n",
    "        tickmode = 'array',\n",
    "        tickvals = [0,1,2,3,4,5,6,7,8,9,10,11,12,13,14,15],\n",
    "        ticktext = Category #['Class 1', 'Class 2', 'Class 3'...]\n",
    "    )\n",
    ")\n",
    "\n",
    "fig.show() #распределение состояния ионов (кубитов) по ручной разметке"
   ]
  },
  {
   "cell_type": "code",
   "execution_count": 9,
   "metadata": {
    "id": "wydYveMRoxbF"
   },
   "outputs": [],
   "source": [
    "#расчет метрики fidelity\n",
    "\n",
    "def fidelity(prob_true, prob_pred):\n",
    "    return np.sqrt((prob_true @ prob_pred)/np.sqrt(prob_true @ prob_true)/np.sqrt(prob_pred @ prob_pred))\n"
   ]
  },
  {
   "cell_type": "code",
   "execution_count": 10,
   "metadata": {
    "id": "fTx2Fhbapf-F"
   },
   "outputs": [],
   "source": [
    "import numpy as np\n",
    "count_true, division = np.histogram(df_true['Class'])\n",
    "count_pred, division = np.histogram(df_pred['Class'])\n",
    "\n",
    "prob_true = count_true\n",
    "prob_pred = count_pred"
   ]
  },
  {
   "cell_type": "code",
   "execution_count": 11,
   "metadata": {
    "colab": {
     "base_uri": "https://localhost:8080/"
    },
    "id": "BBGEe4Fhrbrd",
    "outputId": "6dcdf56a-78ae-4086-ed38-6b520017c1ef"
   },
   "outputs": [
    {
     "data": {
      "text/plain": [
       "0.9962937363691102"
      ]
     },
     "execution_count": 11,
     "metadata": {},
     "output_type": "execute_result"
    }
   ],
   "source": [
    "fidelity(prob_true, prob_pred)"
   ]
  }
 ],
 "metadata": {
  "colab": {
   "provenance": []
  },
  "kernelspec": {
   "display_name": "Python 3 (ipykernel)",
   "language": "python",
   "name": "python3"
  },
  "language_info": {
   "codemirror_mode": {
    "name": "ipython",
    "version": 3
   },
   "file_extension": ".py",
   "mimetype": "text/x-python",
   "name": "python",
   "nbconvert_exporter": "python",
   "pygments_lexer": "ipython3",
   "version": "3.11.4"
  }
 },
 "nbformat": 4,
 "nbformat_minor": 1
}
