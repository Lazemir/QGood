{
 "cells": [
  {
   "cell_type": "markdown",
   "id": "887fe412",
   "metadata": {
    "ExecuteTime": {
     "end_time": "2023-11-24T02:48:29.328626Z",
     "start_time": "2023-11-24T02:48:29.317389Z"
    },
    "code_folding": []
   },
   "source": [
    "# Описание задачи"
   ]
  },
  {
   "cell_type": "markdown",
   "id": "7c9f9697",
   "metadata": {},
   "source": [
    "Предложенный алгоритм берет за основу задачу maxcut. После сжатия и конволюции пикселям картинки сопоставляются бинарные переменные, отвечающие за принадлежность к черному или белому множеству. Далее ставится задача минимизации количества рёбер между двумя множествами при максимизации весов этих рёбер. Рёбра из каждого узла ведём к его соседям (соседи определяются отдельной функцией). Вес же ребра (i, j) выбираем пропорциональным $(x_i - x_j)^2 - w\\,(\\mathrm{imgData}[i] - \\mathrm{imgData}[j])^2 (x_i - x_j)^2$.\n",
    "\n",
    "Оценка масштабируемости алгоритма зависит от конкретного класса картинок, а точнее от необходимой степени детализации. Количество переменных в CUBO определяется числом пикселей картинки NxM. В случае отсутствия необходимости в высокой детализации любая картинка может быть значительно сжата, что положительно отражается на производительности. Тем не менее обычно число пикселей задаёт множество переменных превосходящее таковые в других задачах, поэтому проблему сегментации, вероятно, стоит относить к ресурсозатратным. Сходится выбранный алгоритм достаточно быстро: не было обнаружено улучшения результата при увеличении параметра num_reads выше 40.\n",
    "\n",
    "В качестве классического аналога мы предлагаем сегментацию машинным обучением. Визуально качество работы класического алгоритма выглядит лучше чем квантового"
   ]
  },
  {
   "cell_type": "markdown",
   "id": "8a9d86d1",
   "metadata": {},
   "source": [
    "# Классическое машинное обучение"
   ]
  },
  {
   "cell_type": "code",
   "execution_count": 701,
   "id": "f45accf4",
   "metadata": {
    "ExecuteTime": {
     "end_time": "2023-11-24T05:06:09.065954Z",
     "start_time": "2023-11-24T05:06:09.057526Z"
    },
    "code_folding": []
   },
   "outputs": [],
   "source": [
    "import numpy as np\n",
    "from math import sqrt\n",
    "import matplotlib.pyplot as plt\n",
    "import random\n",
    "import pickle\n",
    "import neal\n",
    "from scipy import sparse as sp\n",
    "from scipy import signal as sg\n",
    "\n",
    "from PIL import Image as image\n",
    "\n",
    "def loadData(filePath, conv=1, comp=1, show=False):\n",
    "    f = open(filePath,'rb') \n",
    "    data = []\n",
    "    \n",
    "    img = image.open(f) \n",
    "    m,n = img.size\n",
    "    \n",
    "    m /= comp\n",
    "    n /= comp\n",
    "    \n",
    "    m = int(m)\n",
    "    n = int(n)\n",
    "    \n",
    "    img = img.resize((m, n))\n",
    "    if(show):\n",
    "        img.show()\n",
    "    \n",
    "    tmp = np.zeros((m, n))\n",
    "    \n",
    "    for i in range(m):\n",
    "        for j in range(n):\n",
    "            tmp[i, j] = img.getpixel((i,j))\n",
    "    f.close()\n",
    "    \n",
    "    data = sg.convolve2d(tmp, np.ones((conv, conv)), mode='valid')/conv**2\n",
    "    \n",
    "    row = data.shape[0]\n",
    "    col = data.shape[1]\n",
    "    \n",
    "    pic_new = image.new(\"L\",(row,col))\n",
    "    \n",
    "    for i in range(row):\n",
    "        for j in range(col):\n",
    "            pic_new.putpixel((i,j), int(data[i, j]))\n",
    "    if(show):\n",
    "        pic_new.show()\n",
    "    \n",
    "    return data,row,col"
   ]
  },
  {
   "cell_type": "code",
   "execution_count": 657,
   "id": "bf4ff360",
   "metadata": {
    "ExecuteTime": {
     "end_time": "2023-11-24T03:38:21.142457Z",
     "start_time": "2023-11-24T03:38:20.465825Z"
    }
   },
   "outputs": [],
   "source": [
    "from sklearn.cluster import  KMeans\n",
    "km=KMeans(n_clusters=2)\n",
    "\n",
    "imgData,row,col =loadData('heraldic_inv.png')\n",
    "imgData = imgData.reshape(row*col, 1)\n",
    "\n",
    "label = km.fit_predict(imgData)\n",
    "label=label.reshape([row,col])\n",
    "\n",
    "pic_new = image.new(\"L\",(row,col))\n",
    "for i in range(row):\n",
    "    for j in range(col):\n",
    "        pic_new.putpixel((i,j),int(256*label[i][j]))\n",
    "pic_new.save(\"name.jpg\",\"JPEG\")\n",
    "pic_new.show()"
   ]
  },
  {
   "cell_type": "code",
   "execution_count": 640,
   "id": "11e62b9f",
   "metadata": {
    "ExecuteTime": {
     "end_time": "2023-11-24T03:32:01.678046Z",
     "start_time": "2023-11-24T03:32:01.534708Z"
    }
   },
   "outputs": [
    {
     "name": "stdout",
     "output_type": "stream",
     "text": [
      "1.png                  4.png                  grapes_inv.png\r\n",
      "1_small.png            KM_Apple.jpg           heraldic_inv.png\r\n",
      "1_small_segmented.png  Q3.pkl                 normal_name.jpg\r\n",
      "2.png                  Q3sp.pkl               solution.yaml\r\n",
      "2_small_c.png          Task_3.ipynb           \u001b[34mtargets\u001b[m\u001b[m/\r\n",
      "3.png                  bloch_inv.png\r\n"
     ]
    }
   ],
   "source": [
    "%ls"
   ]
  },
  {
   "cell_type": "markdown",
   "id": "3ca70c6a",
   "metadata": {
    "ExecuteTime": {
     "end_time": "2023-11-24T03:18:54.233678Z",
     "start_time": "2023-11-24T03:18:54.230656Z"
    }
   },
   "source": [
    "# Квантовый алгоритм CUBO"
   ]
  },
  {
   "cell_type": "code",
   "execution_count": 658,
   "id": "274fffcc",
   "metadata": {
    "ExecuteTime": {
     "end_time": "2023-11-24T03:38:25.988421Z",
     "start_time": "2023-11-24T03:38:25.982684Z"
    },
    "code_folding": [
     0
    ]
   },
   "outputs": [],
   "source": [
    "def d_circle(i, row, d):\n",
    "    \n",
    "    # возвращает индексы узлов в квадрате сполуребром = d\n",
    "    \n",
    "    ans = []\n",
    "    \n",
    "    # верхнее ребро\n",
    "    ans += [k + i - d*row for k in list(range(-d, d+1))]\n",
    "    \n",
    "    # правое ребро\n",
    "    ans += [k*row + i + d for k in list(range(-d, d+1))]\n",
    "    \n",
    "    # нижнее ребро\n",
    "    ans += [-k + i + d*row for k in list(range(-d, d+1))]\n",
    "    \n",
    "    # левое ребро\n",
    "    ans += [-k*row + i - d for k in list(range(-d, d+1))]\n",
    "    \n",
    "    np.asarray(ans)\n",
    "    \n",
    "    return ans"
   ]
  },
  {
   "cell_type": "code",
   "execution_count": 706,
   "id": "87efdc45",
   "metadata": {
    "ExecuteTime": {
     "end_time": "2023-11-24T05:07:30.702654Z",
     "start_time": "2023-11-24T05:07:30.655713Z"
    }
   },
   "outputs": [],
   "source": [
    "imgData,row,col =loadData('1.png', conv=2, comp=1.5)\n",
    "\n",
    "imgData = imgData.reshape(row*col)\n",
    "imgData = imgData/imgData[imgData.argmax()]\n",
    "\n",
    "N = imgData.shape[0]"
   ]
  },
  {
   "cell_type": "code",
   "execution_count": 707,
   "id": "655d5027",
   "metadata": {
    "ExecuteTime": {
     "end_time": "2023-11-24T05:07:32.440424Z",
     "start_time": "2023-11-24T05:07:31.142558Z"
    },
    "code_folding": [],
    "scrolled": true
   },
   "outputs": [],
   "source": [
    "w_1 = 6\n",
    "w_2 = 20\n",
    "w_3 = 25\n",
    "\n",
    "from scipy import sparse as sp\n",
    "\n",
    "K = np.zeros((N, N))\n",
    "\n",
    "# заполнение квадратичной формы\n",
    "for i in range(N):\n",
    "    \n",
    "    #print(i, '\\n')\n",
    "    neighbors = d_circle(i, row, d=2)\n",
    "    \n",
    "    for n in neighbors:\n",
    "        \n",
    "        if(n >= 0 and n < N):\n",
    "\n",
    "            tmp = 1 - w_2*(imgData[i] - imgData[n])**2\n",
    "\n",
    "            K[i, i] += tmp\n",
    "            K[i, n] -= tmp\n",
    "\n",
    "    neighbors = d_circle(i, row, d=1)\n",
    "    \n",
    "    for n in neighbors:\n",
    "        \n",
    "        if(n >= 0 and n < N):\n",
    "\n",
    "            tmp = 1 - w_1*(imgData[i] - imgData[n])**2\n",
    "\n",
    "            K[i, i] += tmp\n",
    "            K[i, n] -= tmp\n",
    "            \n",
    "    neighbors = d_circle(i, row, d=3)\n",
    "    \n",
    "    for n in neighbors:\n",
    "        \n",
    "        if(n >= 0 and n < N):\n",
    "\n",
    "            tmp = 1 - w_3*(imgData[i] - imgData[n])**2\n",
    "\n",
    "            K[i, i] += tmp\n",
    "            K[i, n] -= tmp"
   ]
  },
  {
   "cell_type": "code",
   "execution_count": 709,
   "id": "3aac413f",
   "metadata": {
    "ExecuteTime": {
     "end_time": "2023-11-24T05:08:44.186656Z",
     "start_time": "2023-11-24T05:08:30.759532Z"
    }
   },
   "outputs": [],
   "source": [
    "sampler = neal.SimulatedAnnealingSampler()\n",
    "sampleset = sampler.sample_qubo(Q=K, num_reads=100)\n",
    "dict_out = list(sampleset.lowest().data())[0][0]\n",
    "val_old = np.asarray(list(dict_out.values()))\n",
    "\n",
    "val = val_old.reshape(row, col)\n",
    "pic_new = image.new(\"L\",(row,col))\n",
    "\n",
    "for i in range(row):\n",
    "    for j in range(col):\n",
    "        pic_new.putpixel((i,j),int(256*(1-val[i][j])))\n",
    "                         \n",
    "pic_new.save(\"1_new.jpg\",\"JPEG\")\n",
    "pic_new.show()"
   ]
  },
  {
   "cell_type": "code",
   "execution_count": null,
   "id": "f1824395",
   "metadata": {},
   "outputs": [],
   "source": [
    "# конвертер в файл\n",
    "K = sp.csr_matrix(K)"
   ]
  },
  {
   "cell_type": "markdown",
   "id": "ec0ab2a0",
   "metadata": {},
   "source": [
    "# Оптимизация весов (обучение)"
   ]
  },
  {
   "cell_type": "code",
   "execution_count": 720,
   "id": "0e2a3766",
   "metadata": {
    "ExecuteTime": {
     "end_time": "2023-11-24T05:18:38.993593Z",
     "start_time": "2023-11-24T05:18:28.944345Z"
    },
    "code_folding": [
     79
    ],
    "scrolled": true
   },
   "outputs": [
    {
     "name": "stdout",
     "output_type": "stream",
     "text": [
      "Unexpected exception formatting exception. Falling back to standard exception\n"
     ]
    },
    {
     "name": "stderr",
     "output_type": "stream",
     "text": [
      "Traceback (most recent call last):\n",
      "  File \"/Users/andreykugut/opt/anaconda3/lib/python3.9/site-packages/IPython/core/interactiveshell.py\", line 3369, in run_code\n",
      "    exec(code_obj, self.user_global_ns, self.user_ns)\n",
      "  File \"/var/folders/d0/tt3hk6g15m78sc462y4r9kk80000gn/T/ipykernel_29716/2288319933.py\", line 100, in <cell line: 94>\n",
      "    sol = minimize(loss, x0=x0, bounds=borders)\n",
      "  File \"/Users/andreykugut/opt/anaconda3/lib/python3.9/site-packages/scipy/optimize/_minimize.py\", line 623, in minimize\n",
      "    return _minimize_lbfgsb(fun, x0, args, jac, bounds,\n",
      "  File \"/Users/andreykugut/opt/anaconda3/lib/python3.9/site-packages/scipy/optimize/lbfgsb.py\", line 306, in _minimize_lbfgsb\n",
      "    sf = _prepare_scalar_function(fun, x0, jac=jac, args=args, epsilon=eps,\n",
      "  File \"/Users/andreykugut/opt/anaconda3/lib/python3.9/site-packages/scipy/optimize/optimize.py\", line 261, in _prepare_scalar_function\n",
      "    sf = ScalarFunction(fun, x0, args, grad, hess,\n",
      "  File \"/Users/andreykugut/opt/anaconda3/lib/python3.9/site-packages/scipy/optimize/_differentiable_functions.py\", line 140, in __init__\n",
      "    self._update_fun()\n",
      "  File \"/Users/andreykugut/opt/anaconda3/lib/python3.9/site-packages/scipy/optimize/_differentiable_functions.py\", line 233, in _update_fun\n",
      "    self._update_fun_impl()\n",
      "  File \"/Users/andreykugut/opt/anaconda3/lib/python3.9/site-packages/scipy/optimize/_differentiable_functions.py\", line 137, in update_fun\n",
      "    self.f = fun_wrapped(self.x)\n",
      "  File \"/Users/andreykugut/opt/anaconda3/lib/python3.9/site-packages/scipy/optimize/_differentiable_functions.py\", line 134, in fun_wrapped\n",
      "    return fun(np.copy(x), *args)\n",
      "  File \"/var/folders/d0/tt3hk6g15m78sc462y4r9kk80000gn/T/ipykernel_29716/2288319933.py\", line 86, in loss\n",
      "    ans += single_loss(x, '2.png', 'targets/2_target.png')\n",
      "  File \"/var/folders/d0/tt3hk6g15m78sc462y4r9kk80000gn/T/ipykernel_29716/2288319933.py\", line 57, in single_loss\n",
      "    sampleset = sampler.sample_qubo(Q=K, num_reads=40)\n",
      "  File \"/Users/andreykugut/opt/anaconda3/lib/python3.9/site-packages/dimod/core/sampler.py\", line 290, in sample_qubo\n",
      "    bqm = BinaryQuadraticModel.from_qubo(Q)\n",
      "  File \"/Users/andreykugut/opt/anaconda3/lib/python3.9/site-packages/dimod/binary/binary_quadratic_model.py\", line 1418, in from_qubo\n",
      "  File \"/Users/andreykugut/opt/anaconda3/lib/python3.9/site-packages/dimod/binary/binary_quadratic_model.py\", line 203, in __init__\n",
      "  File \"/Users/andreykugut/opt/anaconda3/lib/python3.9/site-packages/dimod/binary/binary_quadratic_model.py\", line 262, in _init_components\n",
      "  File \"/Users/andreykugut/opt/anaconda3/lib/python3.9/site-packages/dimod/binary/binary_quadratic_model.py\", line 934, in add_quadratic_from_dense\n",
      "KeyboardInterrupt\n",
      "\n",
      "During handling of the above exception, another exception occurred:\n",
      "\n",
      "Traceback (most recent call last):\n",
      "  File \"/Users/andreykugut/opt/anaconda3/lib/python3.9/site-packages/IPython/core/interactiveshell.py\", line 1982, in showtraceback\n",
      "    stb = self.InteractiveTB.structured_traceback(\n",
      "  File \"/Users/andreykugut/opt/anaconda3/lib/python3.9/site-packages/IPython/core/ultratb.py\", line 1118, in structured_traceback\n",
      "    return FormattedTB.structured_traceback(\n",
      "  File \"/Users/andreykugut/opt/anaconda3/lib/python3.9/site-packages/IPython/core/ultratb.py\", line 1012, in structured_traceback\n",
      "    return VerboseTB.structured_traceback(\n",
      "  File \"/Users/andreykugut/opt/anaconda3/lib/python3.9/site-packages/IPython/core/ultratb.py\", line 865, in structured_traceback\n",
      "    formatted_exception = self.format_exception_as_a_whole(etype, evalue, etb, number_of_lines_of_context,\n",
      "  File \"/Users/andreykugut/opt/anaconda3/lib/python3.9/site-packages/IPython/core/ultratb.py\", line 818, in format_exception_as_a_whole\n",
      "    frames.append(self.format_record(r))\n",
      "  File \"/Users/andreykugut/opt/anaconda3/lib/python3.9/site-packages/IPython/core/ultratb.py\", line 736, in format_record\n",
      "    result += ''.join(_format_traceback_lines(frame_info.lines, Colors, self.has_colors, lvals))\n",
      "  File \"/Users/andreykugut/opt/anaconda3/lib/python3.9/site-packages/stack_data/utils.py\", line 145, in cached_property_wrapper\n",
      "    value = obj.__dict__[self.func.__name__] = self.func(obj)\n",
      "  File \"/Users/andreykugut/opt/anaconda3/lib/python3.9/site-packages/stack_data/core.py\", line 698, in lines\n",
      "    pieces = self.included_pieces\n",
      "  File \"/Users/andreykugut/opt/anaconda3/lib/python3.9/site-packages/stack_data/utils.py\", line 145, in cached_property_wrapper\n",
      "    value = obj.__dict__[self.func.__name__] = self.func(obj)\n",
      "  File \"/Users/andreykugut/opt/anaconda3/lib/python3.9/site-packages/stack_data/core.py\", line 649, in included_pieces\n",
      "    pos = scope_pieces.index(self.executing_piece)\n",
      "  File \"/Users/andreykugut/opt/anaconda3/lib/python3.9/site-packages/stack_data/utils.py\", line 145, in cached_property_wrapper\n",
      "    value = obj.__dict__[self.func.__name__] = self.func(obj)\n",
      "  File \"/Users/andreykugut/opt/anaconda3/lib/python3.9/site-packages/stack_data/core.py\", line 628, in executing_piece\n",
      "    return only(\n",
      "  File \"/Users/andreykugut/opt/anaconda3/lib/python3.9/site-packages/executing/executing.py\", line 164, in only\n",
      "    raise NotOneValueFound('Expected one value, found 0')\n",
      "executing.executing.NotOneValueFound: Expected one value, found 0\n"
     ]
    }
   ],
   "source": [
    "from scipy.optimize import minimize\n",
    "\n",
    "def single_loss(x, pic, target):\n",
    "    \n",
    "    conv = int(x[0])\n",
    "    w_1 = x[1]\n",
    "    w_2 = x[2]\n",
    "    w_3 = x[3]\n",
    "    \n",
    "    imgData,row,col =loadData(pic, conv=conv, comp=1.5)\n",
    "\n",
    "    imgData = imgData.reshape(row*col)\n",
    "    imgData = imgData/imgData[imgData.argmax()]\n",
    "\n",
    "    N = imgData.shape[0]\n",
    "    \n",
    "    K = np.zeros((N, N))\n",
    "\n",
    "    # заполнение квадратичной формы\n",
    "    for i in range(N):\n",
    "\n",
    "        #print(i, '\\n')\n",
    "        neighbors = d_circle(i, row, d=2)\n",
    "\n",
    "        for n in neighbors:\n",
    "\n",
    "            if(n >= 0 and n < N):\n",
    "\n",
    "                tmp = 1 - w_2*(imgData[i] - imgData[n])**2\n",
    "\n",
    "                K[i, i] += tmp\n",
    "                K[i, n] -= tmp\n",
    "\n",
    "        neighbors = d_circle(i, row, d=1)\n",
    "\n",
    "        for n in neighbors:\n",
    "\n",
    "            if(n >= 0 and n < N):\n",
    "\n",
    "                tmp = 1 - w_1*(imgData[i] - imgData[n])**2\n",
    "\n",
    "                K[i, i] += tmp\n",
    "                K[i, n] -= tmp\n",
    "\n",
    "        neighbors = d_circle(i, row, d=3)\n",
    "\n",
    "        for n in neighbors:\n",
    "\n",
    "            if(n >= 0 and n < N):\n",
    "\n",
    "                tmp = 1 - w_3*(imgData[i] - imgData[n])**2\n",
    "\n",
    "                K[i, i] += tmp\n",
    "                K[i, n] -= tmp\n",
    "                \n",
    "    sampler = neal.SimulatedAnnealingSampler()\n",
    "    sampleset = sampler.sample_qubo(Q=K, num_reads=40)\n",
    "    dict_out = list(sampleset.lowest().data())[0][0]\n",
    "    val_old = np.asarray(list(dict_out.values()))\n",
    "\n",
    "    val = val_old.reshape(row, col)\n",
    "    pic_new = image.new(\"L\",(row,col))\n",
    "\n",
    "    for i in range(row):\n",
    "        for j in range(col):\n",
    "            pic_new.putpixel((i,j),int(256*(1-val[i][j])))\n",
    "\n",
    "    f = open(target,'rb') \n",
    "    imgData = image.open(f) \n",
    "    imgData = imgData.resize((row, col))\n",
    "    \n",
    "    ans=0\n",
    "    \n",
    "    for n in range(row):\n",
    "        for m in range(col):\n",
    "            \n",
    "            ans += (pic_new.getpixel((n, m)) - imgData.getpixel((n, m)))**2\n",
    "            \n",
    "    return ans\n",
    "\n",
    "def loss(x):\n",
    "    \n",
    "    ans = 0\n",
    "    ans += single_loss(x, '1_small.png', 'targets/1_small_target.png')\n",
    "    ans += single_loss(x, '2_small_c.png', 'targets/2_small_c_target.png')\n",
    "    ans += single_loss(x, '2.png', 'targets/2_target.png')\n",
    "    ans += single_loss(x, 'bloch_inv.png', 'targets/bloch_inv_target.png')\n",
    "    ans += single_loss(x, 'heraldic_inv.png', 'targets/heraldic_inv_target.png')\n",
    "    \n",
    "    return ans\n",
    "\n",
    "abs_loss = 1e10\n",
    "\n",
    "for i in range(10):\n",
    "    \n",
    "    borders = np.asarray([[1, 9], [0, 250], [0, 250], [0, 250]])\n",
    "    # генерируем x0\n",
    "    x0 = np.random.rand(4) * (borders[:, 1] - borders[:, 0]) + borders[:, 0]\n",
    "    # оптимизируем\n",
    "    sol = minimize(loss, x0=x0, bounds=borders)\n",
    "\n",
    "    if(sol.fun < abs_loss):\n",
    "        np.savez('opt_params', loss=sol.fun, x=sol.x)"
   ]
  },
  {
   "cell_type": "code",
   "execution_count": 676,
   "id": "2684fd07",
   "metadata": {
    "ExecuteTime": {
     "end_time": "2023-11-24T03:53:48.337895Z",
     "start_time": "2023-11-24T03:53:48.197777Z"
    }
   },
   "outputs": [
    {
     "name": "stdout",
     "output_type": "stream",
     "text": [
      "1.png                  4.png                  grapes_inv.png\r\n",
      "1_small.png            KM_Apple.jpg           heraldic_inv.png\r\n",
      "1_small_segmented.png  Q3.pkl                 normal_name.jpg\r\n",
      "2.png                  Q3sp.pkl               solution.yaml\r\n",
      "2_small_c.png          Task_3.ipynb           \u001b[34mtargets\u001b[m\u001b[m/\r\n",
      "3.png                  bloch_inv.png\r\n"
     ]
    }
   ],
   "source": [
    "%ls"
   ]
  }
 ],
 "metadata": {
  "kernelspec": {
   "display_name": "Python 3 (ipykernel)",
   "language": "python",
   "name": "python3"
  },
  "language_info": {
   "codemirror_mode": {
    "name": "ipython",
    "version": 3
   },
   "file_extension": ".py",
   "mimetype": "text/x-python",
   "name": "python",
   "nbconvert_exporter": "python",
   "pygments_lexer": "ipython3",
   "version": "3.9.12"
  },
  "toc": {
   "base_numbering": 1,
   "nav_menu": {},
   "number_sections": true,
   "sideBar": true,
   "skip_h1_title": false,
   "title_cell": "Table of Contents",
   "title_sidebar": "Contents",
   "toc_cell": false,
   "toc_position": {},
   "toc_section_display": true,
   "toc_window_display": false
  }
 },
 "nbformat": 4,
 "nbformat_minor": 5
}
