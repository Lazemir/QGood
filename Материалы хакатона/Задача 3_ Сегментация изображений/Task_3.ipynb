{
 "cells": [
  {
   "cell_type": "code",
   "execution_count": 9,
   "id": "fbed4482",
   "metadata": {
    "ExecuteTime": {
     "end_time": "2023-11-23T21:25:50.992517Z",
     "start_time": "2023-11-23T21:25:50.846730Z"
    }
   },
   "outputs": [
    {
     "name": "stderr",
     "output_type": "stream",
     "text": [
      "<frozen importlib._bootstrap>:228: RuntimeWarning: dimod.binary.cybqm.cybqm_float32.cyBQM_template size changed, may indicate binary incompatibility. Expected 64 from C header, got 104 from PyObject\n",
      "<frozen importlib._bootstrap>:228: RuntimeWarning: dimod.binary.cybqm.cybqm_float32.cyBQM_float32 size changed, may indicate binary incompatibility. Expected 64 from C header, got 104 from PyObject\n",
      "<frozen importlib._bootstrap>:228: RuntimeWarning: dimod.binary.cybqm.cybqm_float64.cyBQM_template size changed, may indicate binary incompatibility. Expected 64 from C header, got 112 from PyObject\n",
      "<frozen importlib._bootstrap>:228: RuntimeWarning: dimod.binary.cybqm.cybqm_float64.cyBQM_float64 size changed, may indicate binary incompatibility. Expected 64 from C header, got 112 from PyObject\n",
      "<frozen importlib._bootstrap>:228: RuntimeWarning: dimod.quadratic.cyqm.cyqm_float32.cyQM_template size changed, may indicate binary incompatibility. Expected 72 from C header, got 128 from PyObject\n",
      "<frozen importlib._bootstrap>:228: RuntimeWarning: dimod.quadratic.cyqm.cyqm_float32.cyQM_float32 size changed, may indicate binary incompatibility. Expected 72 from C header, got 128 from PyObject\n",
      "<frozen importlib._bootstrap>:228: RuntimeWarning: dimod.quadratic.cyqm.cyqm_float64.cyQM_template size changed, may indicate binary incompatibility. Expected 72 from C header, got 128 from PyObject\n",
      "<frozen importlib._bootstrap>:228: RuntimeWarning: dimod.quadratic.cyqm.cyqm_float64.cyQM_float64 size changed, may indicate binary incompatibility. Expected 72 from C header, got 128 from PyObject\n"
     ]
    }
   ],
   "source": [
    "import numpy as np\n",
    "from math import sqrt\n",
    "import matplotlib.pyplot as plt\n",
    "import random\n",
    "import pickle\n",
    "import neal\n",
    "\n",
    "\n",
    "from PIL import Image as image\n",
    "\n",
    "def loadData(filePath):\n",
    "    f = open(filePath,'rb') \n",
    "    data= []\n",
    "    \n",
    "    img =image.open(f) \n",
    "    m,n =img.size\n",
    "    img.show()\n",
    "#     a = np.asarray(im)\n",
    "    for i in range(m):\n",
    "        for j in range(n):\n",
    "            x =img.getpixel((i,j))\n",
    "            data.append([x])\n",
    "    f.close()\n",
    "    return np.mat(data),m,n\n",
    "\n",
    "imgData,row,col =loadData('1_small.png')\n",
    "# imgData = imgData.reshape(row,col)"
   ]
  },
  {
   "cell_type": "code",
   "execution_count": 8,
   "id": "f9279818",
   "metadata": {
    "ExecuteTime": {
     "end_time": "2023-11-23T21:25:48.289502Z",
     "start_time": "2023-11-23T21:25:44.318364Z"
    }
   },
   "outputs": [
    {
     "name": "stdout",
     "output_type": "stream",
     "text": [
      "Requirement already satisfied: dwave-neal in /Users/andreykugut/opt/anaconda3/lib/python3.9/site-packages (0.6.0)\n",
      "Requirement already satisfied: dwave-samplers<2.0.0,>=1.0.0 in /Users/andreykugut/opt/anaconda3/lib/python3.9/site-packages (from dwave-neal) (1.2.0)\n",
      "Collecting dimod<0.13.0,>=0.12.0\n",
      "  Using cached dimod-0.12.13-cp39-cp39-macosx_10_9_x86_64.whl (5.3 MB)\n",
      "Requirement already satisfied: networkx>=2.4.0 in /Users/andreykugut/opt/anaconda3/lib/python3.9/site-packages (from dwave-samplers<2.0.0,>=1.0.0->dwave-neal) (2.7.1)\n",
      "Requirement already satisfied: numpy<2.0.0,>=1.19.0 in /Users/andreykugut/opt/anaconda3/lib/python3.9/site-packages (from dwave-samplers<2.0.0,>=1.0.0->dwave-neal) (1.26.2)\n",
      "Installing collected packages: dimod\n",
      "  Attempting uninstall: dimod\n",
      "    Found existing installation: dimod 0.10.17\n",
      "    Uninstalling dimod-0.10.17:\n",
      "      Successfully uninstalled dimod-0.10.17\n",
      "\u001b[31mERROR: pip's dependency resolver does not currently take into account all the packages that are installed. This behaviour is the source of the following dependency conflicts.\n",
      "dwave-qbsolv 0.3.4 requires dimod<0.11.0,>=0.8.1, but you have dimod 0.12.13 which is incompatible.\u001b[0m\n",
      "Successfully installed dimod-0.12.13\n"
     ]
    }
   ],
   "source": [
    "!pip install dwave-neal"
   ]
  },
  {
   "cell_type": "code",
   "execution_count": 145,
   "id": "ef89e19a",
   "metadata": {
    "ExecuteTime": {
     "end_time": "2023-11-23T17:14:01.128630Z",
     "start_time": "2023-11-23T17:14:01.125228Z"
    }
   },
   "outputs": [],
   "source": [
    "N = imgData.shape[0]"
   ]
  },
  {
   "cell_type": "code",
   "execution_count": 227,
   "id": "2d613a09",
   "metadata": {
    "ExecuteTime": {
     "end_time": "2023-11-24T00:07:31.947033Z",
     "start_time": "2023-11-24T00:07:31.274368Z"
    }
   },
   "outputs": [],
   "source": [
    "from scipy import sparse as sp\n",
    "from scipy import signal as sg"
   ]
  },
  {
   "cell_type": "code",
   "execution_count": 157,
   "id": "0d674423",
   "metadata": {
    "ExecuteTime": {
     "end_time": "2023-11-23T23:16:09.714748Z",
     "start_time": "2023-11-23T23:15:59.646881Z"
    }
   },
   "outputs": [],
   "source": [
    "K2 = sp.csr_matrix(K)"
   ]
  },
  {
   "cell_type": "code",
   "execution_count": 259,
   "id": "f0058550",
   "metadata": {
    "ExecuteTime": {
     "end_time": "2023-11-23T17:37:11.581578Z",
     "start_time": "2023-11-23T17:37:07.570083Z"
    }
   },
   "outputs": [
    {
     "name": "stderr",
     "output_type": "stream",
     "text": [
      "/var/folders/d0/tt3hk6g15m78sc462y4r9kk80000gn/T/ipykernel_22715/3725394333.py:11: DeprecationWarning: Conversion of an array with ndim > 0 to a scalar is deprecated, and will error in future. Ensure you extract a single element from your array before performing this operation. (Deprecated NumPy 1.25.)\n",
      "  K[i, i] += (imgData[i] - s_trash)**2\n",
      "/var/folders/d0/tt3hk6g15m78sc462y4r9kk80000gn/T/ipykernel_22715/3725394333.py:21: DeprecationWarning: Conversion of an array with ndim > 0 to a scalar is deprecated, and will error in future. Ensure you extract a single element from your array before performing this operation. (Deprecated NumPy 1.25.)\n",
      "  K[i, i] += (imgData[i] - imgData[i+1])**2\n",
      "/var/folders/d0/tt3hk6g15m78sc462y4r9kk80000gn/T/ipykernel_22715/3725394333.py:27: DeprecationWarning: Conversion of an array with ndim > 0 to a scalar is deprecated, and will error in future. Ensure you extract a single element from your array before performing this operation. (Deprecated NumPy 1.25.)\n",
      "  K[i, j] = -1/2*(imgData[i] - imgData[j])**2\n",
      "/var/folders/d0/tt3hk6g15m78sc462y4r9kk80000gn/T/ipykernel_22715/3725394333.py:15: DeprecationWarning: Conversion of an array with ndim > 0 to a scalar is deprecated, and will error in future. Ensure you extract a single element from your array before performing this operation. (Deprecated NumPy 1.25.)\n",
      "  K[i, i] += (imgData[i] - imgData[i-1])**2\n"
     ]
    }
   ],
   "source": [
    "K = np.zeros((N, N))\n",
    "\n",
    "s_trash = 128\n",
    "\n",
    "# заполнение квадратичной формы\n",
    "for i in range(N):\n",
    "    for j in range(N):\n",
    "        \n",
    "        if(i == j):\n",
    "            \n",
    "            K[i, i] += (imgData[i] - s_trash)**2\n",
    "            \n",
    "            if(i > 0):\n",
    "                \n",
    "                K[i, i] += (imgData[i] - imgData[i-1])**2\n",
    "                \n",
    "                \n",
    "                \n",
    "            if(i < N-1):\n",
    "                \n",
    "                K[i, i] += (imgData[i] - imgData[i+1])**2\n",
    "                \n",
    "            continue\n",
    "            \n",
    "        if(abs(i - j) == 1 or abs(i - j) == row):# or abs(i - j) == row + 1 or abs(i - j) == row - 1):\n",
    "            \n",
    "            K[i, j] = -1/2*(imgData[i] - imgData[j])**2\n",
    "            "
   ]
  },
  {
   "cell_type": "code",
   "execution_count": 260,
   "id": "bf27fbd9",
   "metadata": {
    "ExecuteTime": {
     "end_time": "2023-11-23T17:37:12.014507Z",
     "start_time": "2023-11-23T17:37:11.584183Z"
    }
   },
   "outputs": [],
   "source": [
    "sampler = neal.SimulatedAnnealingSampler()\n",
    "sampleset = sampler.sample_qubo(Q=K, num_reads=10)"
   ]
  },
  {
   "cell_type": "code",
   "execution_count": 261,
   "id": "1fef5b1e",
   "metadata": {
    "ExecuteTime": {
     "end_time": "2023-11-23T17:37:12.022047Z",
     "start_time": "2023-11-23T17:37:12.017121Z"
    }
   },
   "outputs": [],
   "source": [
    "dict_out = list(sampleset.lowest().data())[0][0]\n",
    "val_old = np.asarray(list(dict_out.values()))"
   ]
  },
  {
   "cell_type": "code",
   "execution_count": 262,
   "id": "55766231",
   "metadata": {
    "ExecuteTime": {
     "end_time": "2023-11-23T17:37:12.114449Z",
     "start_time": "2023-11-23T17:37:12.025346Z"
    }
   },
   "outputs": [],
   "source": [
    "val = val_old.reshape(row, col)\n",
    "pic_new = image.new(\"L\",(row,col))\n",
    "\n",
    "for i in range(row):\n",
    "    for j in range(col):\n",
    "        pic_new.putpixel((i,j),int(256*(1-val[i][j])))\n",
    "                         \n",
    "pic_new.save(\"normal_name.jpg\",\"JPEG\")\n",
    "pic_new.show()"
   ]
  },
  {
   "cell_type": "code",
   "execution_count": 245,
   "id": "380c2b9b",
   "metadata": {
    "ExecuteTime": {
     "end_time": "2023-11-23T17:28:38.929790Z",
     "start_time": "2023-11-23T17:28:38.924713Z"
    }
   },
   "outputs": [
    {
     "data": {
      "text/plain": [
       "array([[0, 0, 0, ..., 0, 0, 0],\n",
       "       [0, 0, 0, ..., 0, 0, 0],\n",
       "       [0, 0, 0, ..., 0, 1, 1],\n",
       "       ...,\n",
       "       [1, 1, 1, ..., 0, 1, 1],\n",
       "       [1, 1, 1, ..., 1, 1, 1],\n",
       "       [1, 1, 1, ..., 0, 1, 1]], dtype=int8)"
      ]
     },
     "execution_count": 245,
     "metadata": {},
     "output_type": "execute_result"
    }
   ],
   "source": [
    "val"
   ]
  },
  {
   "cell_type": "code",
   "execution_count": 121,
   "id": "6ff1924e",
   "metadata": {
    "ExecuteTime": {
     "end_time": "2023-11-23T16:37:55.618113Z",
     "start_time": "2023-11-23T16:37:55.478809Z"
    }
   },
   "outputs": [
    {
     "name": "stdout",
     "output_type": "stream",
     "text": [
      "1.png                  2_small_c.png          Task_3.ipynb\r\n",
      "1_small.png            3.png                  bloch_inv.png\r\n",
      "1_small_segmented.png  4.png                  grapes_inv.png\r\n",
      "2.png                  KM_Apple.jpg           heraldic_inv.png\r\n"
     ]
    }
   ],
   "source": [
    "%ls"
   ]
  },
  {
   "cell_type": "code",
   "execution_count": 56,
   "id": "6dcc14b8",
   "metadata": {
    "ExecuteTime": {
     "end_time": "2023-11-23T22:23:08.585584Z",
     "start_time": "2023-11-23T22:23:08.580646Z"
    }
   },
   "outputs": [],
   "source": [
    "def d_circle(i, row, d):\n",
    "    \n",
    "    # возвращает индексы узлов в квадрате сполуребром = d\n",
    "    \n",
    "    ans = []\n",
    "    \n",
    "    # верхнее ребро\n",
    "    ans += [k + i - d*row for k in list(range(-d, d+1))]\n",
    "    \n",
    "    # правое ребро\n",
    "    ans += [k*row + i + d for k in list(range(-d, d+1))]\n",
    "    \n",
    "    # нижнее ребро\n",
    "    ans += [-k + i + d*row for k in list(range(-d, d+1))]\n",
    "    \n",
    "    # левое ребро\n",
    "    ans += [k*row + i - d for k in list(range(-d, d+1))]\n",
    "    \n",
    "    np.asarray(ans)\n",
    "    \n",
    "    return ans"
   ]
  },
  {
   "cell_type": "code",
   "execution_count": 79,
   "id": "13862715",
   "metadata": {
    "ExecuteTime": {
     "end_time": "2023-11-23T22:33:09.230897Z",
     "start_time": "2023-11-23T22:33:09.091056Z"
    }
   },
   "outputs": [
    {
     "name": "stdout",
     "output_type": "stream",
     "text": [
      "1.png                  3.png                  grapes_inv.png\r\n",
      "1_small.png            4.png                  heraldic_inv.png\r\n",
      "1_small_segmented.png  KM_Apple.jpg           normal_name.jpg\r\n",
      "2.png                  Task_3.ipynb\r\n",
      "2_small_c.png          bloch_inv.png\r\n"
     ]
    }
   ],
   "source": [
    "%ls"
   ]
  },
  {
   "cell_type": "code",
   "execution_count": 52,
   "id": "1897885a",
   "metadata": {
    "ExecuteTime": {
     "end_time": "2023-11-23T22:20:17.101494Z",
     "start_time": "2023-11-23T22:20:17.097219Z"
    }
   },
   "outputs": [
    {
     "data": {
      "text/plain": [
       "[-2, -1, 0, 0, 4, 8, 8, 7, 6, -2, 2, 6]"
      ]
     },
     "execution_count": 52,
     "metadata": {},
     "output_type": "execute_result"
    }
   ],
   "source": [
    "d_circle(3, 4, 1)"
   ]
  },
  {
   "cell_type": "code",
   "execution_count": 50,
   "id": "273b14de",
   "metadata": {
    "ExecuteTime": {
     "end_time": "2023-11-23T22:20:04.544246Z",
     "start_time": "2023-11-23T22:20:04.540501Z"
    }
   },
   "outputs": [
    {
     "name": "stdout",
     "output_type": "stream",
     "text": [
      "-2\n",
      "-1\n",
      "0\n",
      "0\n",
      "4\n",
      "8\n",
      "8\n",
      "7\n",
      "6\n",
      "-2\n",
      "2\n",
      "6\n"
     ]
    }
   ],
   "source": [
    "for n in d_circle(3, 4, 1):\n",
    "    \n",
    "    print(n)"
   ]
  },
  {
   "cell_type": "code",
   "execution_count": 242,
   "id": "ba81431d",
   "metadata": {
    "ExecuteTime": {
     "end_time": "2023-11-24T00:21:52.263593Z",
     "start_time": "2023-11-24T00:21:52.257424Z"
    },
    "code_folding": [
     13
    ]
   },
   "outputs": [],
   "source": [
    "# попытка через макскат\n",
    "\n",
    "import numpy as np\n",
    "from math import sqrt\n",
    "import matplotlib.pyplot as plt\n",
    "import random\n",
    "import pickle\n",
    "import neal\n",
    "from scipy import sparse as sp\n",
    "from scipy import signal as sg\n",
    "\n",
    "from PIL import Image as image\n",
    "\n",
    "def loadData(filePath, conv=1):\n",
    "    f = open(filePath,'rb') \n",
    "    data= []\n",
    "    \n",
    "    img =image.open(f) \n",
    "    m,n =img.size\n",
    "    img.show()\n",
    "    \n",
    "    tmp = np.zeros((m, n))\n",
    "    \n",
    "    for i in range(m):\n",
    "        for j in range(n):\n",
    "            tmp[i, j] = img.getpixel((i,j))\n",
    "    f.close()\n",
    "    \n",
    "    data = sg.convolve2d(tmp, np.ones((conv, conv)))/conv**2\n",
    "    \n",
    "    row = data.shape[0]\n",
    "    col = data.shape[1]\n",
    "    \n",
    "    pic_new = image.new(\"L\",(row,col))\n",
    "    \n",
    "    for i in range(row):\n",
    "        for j in range(col):\n",
    "            pic_new.putpixel((i,j), int(data[i, j]))\n",
    "    \n",
    "    pic_new.show()\n",
    "    \n",
    "    return np.mat(data),row,col"
   ]
  },
  {
   "cell_type": "code",
   "execution_count": 243,
   "id": "d07c12ed",
   "metadata": {
    "ExecuteTime": {
     "end_time": "2023-11-24T00:22:01.259075Z",
     "start_time": "2023-11-24T00:22:01.067157Z"
    }
   },
   "outputs": [],
   "source": [
    "imgData,row,col =loadData('1_small.png', conv=3)\n",
    "# imgData = imgData.reshape(row,col)\n",
    "\n",
    "\n",
    "N = imgData.shape[0]\n"
   ]
  },
  {
   "cell_type": "code",
   "execution_count": 218,
   "id": "6a673ef2",
   "metadata": {
    "ExecuteTime": {
     "end_time": "2023-11-23T23:58:18.319858Z",
     "start_time": "2023-11-23T23:58:15.747118Z"
    },
    "code_folding": [],
    "scrolled": true
   },
   "outputs": [
    {
     "name": "stderr",
     "output_type": "stream",
     "text": [
      "/var/folders/d0/tt3hk6g15m78sc462y4r9kk80000gn/T/ipykernel_29716/150097380.py:23: DeprecationWarning: Conversion of an array with ndim > 0 to a scalar is deprecated, and will error in future. Ensure you extract a single element from your array before performing this operation. (Deprecated NumPy 1.25.)\n",
      "  K[i, i] += int(tmp)\n",
      "/var/folders/d0/tt3hk6g15m78sc462y4r9kk80000gn/T/ipykernel_29716/150097380.py:24: DeprecationWarning: Conversion of an array with ndim > 0 to a scalar is deprecated, and will error in future. Ensure you extract a single element from your array before performing this operation. (Deprecated NumPy 1.25.)\n",
      "  K[i, n] -= int(tmp)\n",
      "/var/folders/d0/tt3hk6g15m78sc462y4r9kk80000gn/T/ipykernel_29716/150097380.py:34: DeprecationWarning: Conversion of an array with ndim > 0 to a scalar is deprecated, and will error in future. Ensure you extract a single element from your array before performing this operation. (Deprecated NumPy 1.25.)\n",
      "  K[i, i] += int(tmp)\n",
      "/var/folders/d0/tt3hk6g15m78sc462y4r9kk80000gn/T/ipykernel_29716/150097380.py:35: DeprecationWarning: Conversion of an array with ndim > 0 to a scalar is deprecated, and will error in future. Ensure you extract a single element from your array before performing this operation. (Deprecated NumPy 1.25.)\n",
      "  K[i, n] -= int(tmp)\n"
     ]
    }
   ],
   "source": [
    "w_1 = 1/256*0.\n",
    "w_2 = 1/256*0.16\n",
    "\n",
    "\n",
    "from scipy import sparse as sp\n",
    "\n",
    "#K = sp.lil_matrix((N, N), dtype=np.int16)\n",
    "#K = sp.csr_matrix(K)\n",
    "K = np.zeros((N, N))\n",
    "\n",
    "# заполнение квадратичной формы\n",
    "for i in range(N):\n",
    "    \n",
    "    #print(i, '\\n')\n",
    "    neighbors = d_circle(i, row, d=2)\n",
    "    \n",
    "    for n in neighbors:\n",
    "        \n",
    "        if(n >= 0 and n < N):\n",
    "\n",
    "            tmp = 1 - w_2*(imgData[i] - imgData[n])**2\n",
    "\n",
    "            K[i, i] += int(tmp)\n",
    "            K[i, n] -= int(tmp)\n",
    "\n",
    "    neighbors = d_circle(i, row, d=1)\n",
    "    \n",
    "    for n in neighbors:\n",
    "        \n",
    "        if(n >= 0 and n < N):\n",
    "\n",
    "            tmp = 1 - w_1*(imgData[i] - imgData[n])**2\n",
    "\n",
    "            K[i, i] += int(tmp)\n",
    "            K[i, n] -= int(tmp)"
   ]
  },
  {
   "cell_type": "code",
   "execution_count": 193,
   "id": "d8b62ce1",
   "metadata": {
    "ExecuteTime": {
     "end_time": "2023-11-23T23:50:42.164108Z",
     "start_time": "2023-11-23T23:50:42.160468Z"
    },
    "code_folding": [
     5
    ],
    "scrolled": true
   },
   "outputs": [],
   "source": [
    "# ручное\n",
    "# w = 1/256*0.16\n",
    "\n",
    "# K = np.zeros((N, N))\n",
    "\n",
    "# # заполнение квадратичной формы\n",
    "# for i in range(N):\n",
    "            \n",
    "#     if(i - 1 >= 0):\n",
    "\n",
    "#         tmp = 1 - w*(imgData[i] - imgData[i - 1])**2\n",
    "        \n",
    "#         K[i, i] += tmp\n",
    "#         K[i, i - 1] -= tmp\n",
    "\n",
    "#     if(i + 1 < N):\n",
    "\n",
    "#         tmp = 1 - w*(imgData[i] - imgData[i + 1])**2\n",
    "        \n",
    "#         K[i, i] += tmp\n",
    "#         K[i, i + 1] -= tmp\n",
    "\n",
    "#     if(i - row >= 0):\n",
    "            \n",
    "#         tmp = 1 - w*(imgData[i] - imgData[i - row])**2\n",
    "        \n",
    "#         K[i, i] += tmp\n",
    "#         K[i, i - row] -= tmp\n",
    "\n",
    "#     if(i + row < N):\n",
    "        \n",
    "#         tmp = 1 - w*(imgData[i] - imgData[i + row])**2\n",
    "        \n",
    "#         K[i, i] += tmp\n",
    "#         K[i, i + row] -= tmp\n",
    "\n",
    "#     if(i - 1 - row >= 0):\n",
    "        \n",
    "#         tmp = 1 - w*(imgData[i] - imgData[i - 1 - row])**2\n",
    "        \n",
    "#         K[i, i] += tmp\n",
    "#         K[i, i - 1 - row] -= tmp\n",
    "\n",
    "#     if(i + 1 - row >= 0):\n",
    "            \n",
    "#         tmp = 1 - w*(imgData[i] - imgData[i + 1 - row])**2\n",
    "        \n",
    "#         K[i, i] += tmp\n",
    "#         K[i, i + 1 - row] -= tmp\n",
    "\n",
    "#     if(i + 1 + row < N):\n",
    "              \n",
    "#         tmp = 1 - w*(imgData[i] - imgData[i + 1 + row])**2\n",
    "        \n",
    "#         K[i, i] += tmp\n",
    "#         K[i, i + 1 + row] -= tmp\n",
    "\n",
    "#     if(i - 1 + row < N):\n",
    "\n",
    "#         tmp = 1 - w*(imgData[i] - imgData[i - 1 + row])**2\n",
    "        \n",
    "#         K[i, i] += tmp\n",
    "#         K[i, i - 1 + row] -= tmp\n"
   ]
  },
  {
   "cell_type": "code",
   "execution_count": 195,
   "id": "a4f1e6f0",
   "metadata": {
    "ExecuteTime": {
     "end_time": "2023-11-23T23:52:26.148746Z",
     "start_time": "2023-11-23T23:52:26.005717Z"
    }
   },
   "outputs": [
    {
     "name": "stdout",
     "output_type": "stream",
     "text": [
      "1.png                  4.png                  grapes_inv.png\r\n",
      "1_small.png            KM_Apple.jpg           heraldic_inv.png\r\n",
      "1_small_segmented.png  Q3.pkl                 normal_name.jpg\r\n",
      "2.png                  Q3sp.pkl               solution.yaml\r\n",
      "2_small_c.png          Task_3.ipynb\r\n",
      "3.png                  bloch_inv.png\r\n"
     ]
    }
   ],
   "source": [
    "%ls"
   ]
  },
  {
   "cell_type": "code",
   "execution_count": 226,
   "id": "ae8422a1",
   "metadata": {
    "ExecuteTime": {
     "end_time": "2023-11-24T00:01:25.213159Z",
     "start_time": "2023-11-24T00:01:25.208410Z"
    }
   },
   "outputs": [
    {
     "data": {
      "text/plain": [
       "False"
      ]
     },
     "execution_count": 226,
     "metadata": {},
     "output_type": "execute_result"
    }
   ],
   "source": [
    "a = open('solution.yaml')"
   ]
  },
  {
   "cell_type": "code",
   "execution_count": 220,
   "id": "3cde451b",
   "metadata": {
    "ExecuteTime": {
     "end_time": "2023-11-23T23:58:42.607319Z",
     "start_time": "2023-11-23T23:58:39.778739Z"
    }
   },
   "outputs": [],
   "source": [
    "sampler = neal.SimulatedAnnealingSampler()\n",
    "sampleset = sampler.sample_qubo(Q=K, num_reads=50)\n",
    "dict_out = list(sampleset.lowest().data())[0][0]\n",
    "val_old = np.asarray(list(dict_out.values()))\n",
    "\n",
    "val = val_old.reshape(row, col)\n",
    "pic_new = image.new(\"L\",(row,col))\n",
    "\n",
    "for i in range(row):\n",
    "    for j in range(col):\n",
    "        pic_new.putpixel((i,j),int(256*(1-val[i][j])))\n",
    "                         \n",
    "pic_new.save(\"normal_name.jpg\",\"JPEG\")\n",
    "pic_new.show()"
   ]
  },
  {
   "cell_type": "code",
   "execution_count": 128,
   "id": "e638a8d8",
   "metadata": {
    "ExecuteTime": {
     "end_time": "2023-11-23T22:55:00.727990Z",
     "start_time": "2023-11-23T22:54:49.565868Z"
    },
    "code_folding": [
     0
    ]
   },
   "outputs": [],
   "source": [
    "# копипаста\n",
    "\n",
    "import numpy as np\n",
    "from math import sqrt\n",
    "import matplotlib.pyplot as plt\n",
    "import random\n",
    "import pickle\n",
    "import neal\n",
    "\n",
    "from PIL import Image as image\n",
    "\n",
    "def loadData(filePath):\n",
    "    f = open(filePath,'rb') \n",
    "    data= []\n",
    "    \n",
    "    img =image.open(f) \n",
    "    m,n =img.size\n",
    "    img.show()\n",
    "#     a = np.asarray(im)\n",
    "    for i in range(m):\n",
    "        for j in range(n):\n",
    "            x =img.getpixel((i,j))\n",
    "            data.append([x])\n",
    "    f.close()\n",
    "    \n",
    "    return np.mat(data),m,n\n",
    "\n",
    "img,row,col =loadData('1_small.png')\n",
    "# imgData = imgData.reshape(row,col)\n",
    "\n",
    "img = img.reshape((row, col))\n",
    "\n",
    "def unary_potential(img,label,i,j):\n",
    "\tif(label == 0):\n",
    "\t\treturn (img[i,j]/255.0) - 1\n",
    "\telse:\n",
    "\t\treturn (0 - (img[i,j]/255.0))\n",
    "\n",
    "def find_neighbors(img,i,j):\n",
    "\t(M,N)=img.shape[0:2]\n",
    "\t#find correct neighbors\n",
    "\t\n",
    "\t#right-bottom corner(no post neighbors available for this pixel)\n",
    "\tif i==M-1 and j==N-1:\n",
    "\t\tneighbor=[]\n",
    "\t#bottom line\n",
    "\telif i==M-1:\n",
    "\t\tneighbor=[(M-1,j+1)]\n",
    "\t#right line\n",
    "\telif j==N-1:\n",
    "\t\tneighbor=[(i+1,N-1)]\n",
    "\t#any other pixel\n",
    "\telse:\n",
    "\t\tneighbor=[(i,j+1), (i+1,j+1), (i+1,j)]\n",
    "\n",
    "\treturn neighbor\n",
    "\n",
    "(M,N) = img.shape[0:2]\n",
    "coupler_count = 0\n",
    "Q = {}\n",
    "for i in range(M):\n",
    "    for j in range(N):\n",
    "        foreground_node_id = (i*N*2)+(j*2)\n",
    "        background_node_id = foreground_node_id+1\n",
    "        #foreground qubit\n",
    "        Q[(foreground_node_id,foreground_node_id)] = unary_potential(img,1,i,j)\n",
    "        #background qubit\n",
    "        Q[(background_node_id,background_node_id)] = unary_potential(img,0,i,j)\n",
    "        #for qubits of same pixel - high cost should be given here to ensure both qubits are not open\n",
    "        Q[(foreground_node_id,background_node_id)] = 10\n",
    "        coupler_count += 1\n",
    "        #for neighbors\n",
    "        neighbors = find_neighbors(img,i,j)\n",
    "        for k in neighbors:\n",
    "            neighbor_foreground_node_id = (k[0]*N*2)+(k[1]*2)\n",
    "            neighbor_background_node_id = neighbor_foreground_node_id+1\n",
    "\n",
    "\n",
    "#print(Q)\t\t\t\n",
    "\n",
    "sampler = neal.SimulatedAnnealingSampler()\n",
    "sampleset = sampler.sample_qubo(Q=Q, num_reads=100)\n",
    "dict_out = list(sampleset.lowest().data())[0][0]\n",
    "array = np.asarray(list(dict_out.values()))\n",
    "\n",
    "counter = 1\n",
    "out = []\n",
    "for i in array:\n",
    "    mode = counter\n",
    "    if(counter > (N*M*2)):\n",
    "        continue\n",
    "    if(mode%2 == 1):\n",
    "        if array[i] == 1:\n",
    "            out.append(int(255))\n",
    "        else:\n",
    "            out.append(0)\n",
    "    counter += 1\n",
    "\n",
    "\n",
    "out=np.array(out)\n",
    "val = out.reshape(M,N)\n",
    "\n",
    "pic_new = image.new(\"L\",(row,col))\n",
    "\n",
    "for i in range(row):\n",
    "    for j in range(col):\n",
    "        pic_new.putpixel((i,j),int(256*(1-val[i][j])))\n",
    "                         \n",
    "pic_new.save(\"normal_name.jpg\",\"JPEG\")\n",
    "pic_new.show()"
   ]
  },
  {
   "cell_type": "code",
   "execution_count": 184,
   "id": "6b0c2ce4",
   "metadata": {
    "ExecuteTime": {
     "end_time": "2023-11-23T23:34:19.879895Z",
     "start_time": "2023-11-23T23:34:19.876139Z"
    }
   },
   "outputs": [
    {
     "data": {
      "text/plain": [
       "37200"
      ]
     },
     "execution_count": 184,
     "metadata": {},
     "output_type": "execute_result"
    }
   ],
   "source": [
    "N"
   ]
  },
  {
   "cell_type": "code",
   "execution_count": 158,
   "id": "76de8f0b",
   "metadata": {
    "ExecuteTime": {
     "end_time": "2023-11-23T23:16:20.905578Z",
     "start_time": "2023-11-23T23:16:20.896892Z"
    }
   },
   "outputs": [],
   "source": [
    "with open(\"Q3sp.pkl\", \"wb\") as fout:\n",
    "    pickle.dump(K2, fout)"
   ]
  },
  {
   "cell_type": "code",
   "execution_count": 154,
   "id": "ab423ef7",
   "metadata": {
    "ExecuteTime": {
     "end_time": "2023-11-23T23:11:34.294602Z",
     "start_time": "2023-11-23T23:11:34.291420Z"
    }
   },
   "outputs": [
    {
     "data": {
      "text/plain": [
       "(37200, 37200)"
      ]
     },
     "execution_count": 154,
     "metadata": {},
     "output_type": "execute_result"
    }
   ],
   "source": [
    "K.shape"
   ]
  },
  {
   "cell_type": "code",
   "execution_count": null,
   "id": "5c4d1c23",
   "metadata": {},
   "outputs": [],
   "source": []
  }
 ],
 "metadata": {
  "kernelspec": {
   "display_name": "Python 3 (ipykernel)",
   "language": "python",
   "name": "python3"
  },
  "language_info": {
   "codemirror_mode": {
    "name": "ipython",
    "version": 3
   },
   "file_extension": ".py",
   "mimetype": "text/x-python",
   "name": "python",
   "nbconvert_exporter": "python",
   "pygments_lexer": "ipython3",
   "version": "3.9.12"
  },
  "toc": {
   "base_numbering": 1,
   "nav_menu": {},
   "number_sections": true,
   "sideBar": true,
   "skip_h1_title": false,
   "title_cell": "Table of Contents",
   "title_sidebar": "Contents",
   "toc_cell": false,
   "toc_position": {},
   "toc_section_display": true,
   "toc_window_display": false
  }
 },
 "nbformat": 4,
 "nbformat_minor": 5
}
